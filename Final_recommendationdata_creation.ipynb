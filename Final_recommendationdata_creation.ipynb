{
 "cells": [
  {
   "cell_type": "code",
   "execution_count": 1,
   "id": "increased-convertible",
   "metadata": {},
   "outputs": [],
   "source": [
    "import pandas as pd\n",
    "import matplotlib.pyplot as plt\n",
    "import seaborn as sns"
   ]
  },
  {
   "cell_type": "code",
   "execution_count": null,
   "id": "forced-demographic",
   "metadata": {},
   "outputs": [],
   "source": []
  },
  {
   "cell_type": "code",
   "execution_count": 2,
   "id": "phantom-brown",
   "metadata": {},
   "outputs": [],
   "source": [
    "fertilizer_data_path = 'C:/Users/User/Desktop/research/Agriculture/DATA/TEMP-FINAL/Fertilizer.csv'\n",
    "\n",
    "#merge_fert = pd.read_csv(\"https://raw.githubusercontent.com/Gladiator07/Harvestify/master/Data-raw/FertilizerData.csv\")\n",
    "merge_fert = pd.read_csv(fertilizer_data_path)"
   ]
  },
  {
   "cell_type": "code",
   "execution_count": 3,
   "id": "missing-colonial",
   "metadata": {},
   "outputs": [
    {
     "data": {
      "text/plain": [
       "array(['tomato', 'Jowar(Sorghum)', 'Sunflower', 'Barley(JAV)', 'Soyabean',\n",
       "       'Chickoo', 'Guava', 'Brinjal', 'Carrot', 'Ragi( naachnnii)',\n",
       "       'Capsicum', 'Cabbage', 'Cauliflower', 'Cucumber', 'Drumstick',\n",
       "       'Onion', 'Potato', 'Pumpkin', 'Radish', 'Sweet Potato', 'Spinach',\n",
       "       'Pineapple', 'Custard apple', 'Ginger', 'Turmeric',\n",
       "       'Mustard seeds', 'Green Peas', 'Chickpeas(Channa)',\n",
       "       'Coriander seeds', 'Beetroot', 'Chili', 'Olive',\n",
       "       'Gooseberry(Amla)'], dtype=object)"
      ]
     },
     "execution_count": 3,
     "metadata": {},
     "output_type": "execute_result"
    }
   ],
   "source": [
    "merge_fert.Crop.values"
   ]
  },
  {
   "cell_type": "code",
   "execution_count": null,
   "id": "shaped-fifty",
   "metadata": {},
   "outputs": [],
   "source": []
  },
  {
   "cell_type": "code",
   "execution_count": 4,
   "id": "faced-treatment",
   "metadata": {},
   "outputs": [],
   "source": [
    "#del merge_fert['Unnamed: 0']"
   ]
  },
  {
   "cell_type": "code",
   "execution_count": 5,
   "id": "thermal-craps",
   "metadata": {},
   "outputs": [
    {
     "data": {
      "text/html": [
       "<div>\n",
       "<style scoped>\n",
       "    .dataframe tbody tr th:only-of-type {\n",
       "        vertical-align: middle;\n",
       "    }\n",
       "\n",
       "    .dataframe tbody tr th {\n",
       "        vertical-align: top;\n",
       "    }\n",
       "\n",
       "    .dataframe thead th {\n",
       "        text-align: right;\n",
       "    }\n",
       "</style>\n",
       "<table border=\"1\" class=\"dataframe\">\n",
       "  <thead>\n",
       "    <tr style=\"text-align: right;\">\n",
       "      <th></th>\n",
       "      <th>Crop</th>\n",
       "      <th>N</th>\n",
       "      <th>P</th>\n",
       "      <th>K</th>\n",
       "      <th>pH</th>\n",
       "    </tr>\n",
       "  </thead>\n",
       "  <tbody>\n",
       "    <tr>\n",
       "      <th>0</th>\n",
       "      <td>tomato</td>\n",
       "      <td>100</td>\n",
       "      <td>40</td>\n",
       "      <td>90</td>\n",
       "      <td>6.00</td>\n",
       "    </tr>\n",
       "    <tr>\n",
       "      <th>1</th>\n",
       "      <td>Jowar(Sorghum)</td>\n",
       "      <td>80</td>\n",
       "      <td>40</td>\n",
       "      <td>40</td>\n",
       "      <td>5.50</td>\n",
       "    </tr>\n",
       "    <tr>\n",
       "      <th>2</th>\n",
       "      <td>Sunflower</td>\n",
       "      <td>50</td>\n",
       "      <td>60</td>\n",
       "      <td>30</td>\n",
       "      <td>5.50</td>\n",
       "    </tr>\n",
       "    <tr>\n",
       "      <th>3</th>\n",
       "      <td>Barley(JAV)</td>\n",
       "      <td>70</td>\n",
       "      <td>40</td>\n",
       "      <td>45</td>\n",
       "      <td>5.52</td>\n",
       "    </tr>\n",
       "    <tr>\n",
       "      <th>4</th>\n",
       "      <td>Soyabean</td>\n",
       "      <td>20</td>\n",
       "      <td>60</td>\n",
       "      <td>20</td>\n",
       "      <td>5.50</td>\n",
       "    </tr>\n",
       "  </tbody>\n",
       "</table>\n",
       "</div>"
      ],
      "text/plain": [
       "             Crop    N   P   K    pH\n",
       "0          tomato  100  40  90  6.00\n",
       "1  Jowar(Sorghum)   80  40  40  5.50\n",
       "2       Sunflower   50  60  30  5.50\n",
       "3     Barley(JAV)   70  40  45  5.52\n",
       "4        Soyabean   20  60  20  5.50"
      ]
     },
     "execution_count": 5,
     "metadata": {},
     "output_type": "execute_result"
    }
   ],
   "source": [
    "merge_fert.head()"
   ]
  },
  {
   "cell_type": "code",
   "execution_count": 6,
   "id": "lined-martial",
   "metadata": {},
   "outputs": [
    {
     "data": {
      "text/plain": [
       "array(['tomato', 'Jowar(Sorghum)', 'Sunflower', 'Barley(JAV)', 'Soyabean',\n",
       "       'Chickoo', 'Guava', 'Brinjal', 'Carrot', 'Ragi( naachnnii)',\n",
       "       'Capsicum', 'Cabbage', 'Cauliflower', 'Cucumber', 'Drumstick',\n",
       "       'Onion', 'Potato', 'Pumpkin', 'Radish', 'Sweet Potato', 'Spinach',\n",
       "       'Pineapple', 'Custard apple', 'Ginger', 'Turmeric',\n",
       "       'Mustard seeds', 'Green Peas', 'Chickpeas(Channa)',\n",
       "       'Coriander seeds', 'Beetroot', 'Chili', 'Olive',\n",
       "       'Gooseberry(Amla)'], dtype=object)"
      ]
     },
     "execution_count": 6,
     "metadata": {},
     "output_type": "execute_result"
    }
   ],
   "source": [
    "merge_fert.Crop.unique()"
   ]
  },
  {
   "cell_type": "code",
   "execution_count": 7,
   "id": "final-things",
   "metadata": {},
   "outputs": [
    {
     "data": {
      "text/plain": [
       "(33, 5)"
      ]
     },
     "execution_count": 7,
     "metadata": {},
     "output_type": "execute_result"
    }
   ],
   "source": [
    "merge_fert.shape"
   ]
  },
  {
   "cell_type": "code",
   "execution_count": 8,
   "id": "considerable-newcastle",
   "metadata": {},
   "outputs": [
    {
     "data": {
      "text/html": [
       "<div>\n",
       "<style scoped>\n",
       "    .dataframe tbody tr th:only-of-type {\n",
       "        vertical-align: middle;\n",
       "    }\n",
       "\n",
       "    .dataframe tbody tr th {\n",
       "        vertical-align: top;\n",
       "    }\n",
       "\n",
       "    .dataframe thead th {\n",
       "        text-align: right;\n",
       "    }\n",
       "</style>\n",
       "<table border=\"1\" class=\"dataframe\">\n",
       "  <thead>\n",
       "    <tr style=\"text-align: right;\">\n",
       "      <th></th>\n",
       "      <th>N</th>\n",
       "      <th>P</th>\n",
       "      <th>K</th>\n",
       "      <th>pH</th>\n",
       "    </tr>\n",
       "  </thead>\n",
       "  <tbody>\n",
       "    <tr>\n",
       "      <th>count</th>\n",
       "      <td>33.000000</td>\n",
       "      <td>33.000000</td>\n",
       "      <td>33.000000</td>\n",
       "      <td>33.000000</td>\n",
       "    </tr>\n",
       "    <tr>\n",
       "      <th>mean</th>\n",
       "      <td>73.030303</td>\n",
       "      <td>45.454545</td>\n",
       "      <td>55.000000</td>\n",
       "      <td>5.819394</td>\n",
       "    </tr>\n",
       "    <tr>\n",
       "      <th>std</th>\n",
       "      <td>39.467934</td>\n",
       "      <td>18.972169</td>\n",
       "      <td>30.618622</td>\n",
       "      <td>0.622103</td>\n",
       "    </tr>\n",
       "    <tr>\n",
       "      <th>min</th>\n",
       "      <td>20.000000</td>\n",
       "      <td>15.000000</td>\n",
       "      <td>10.000000</td>\n",
       "      <td>4.500000</td>\n",
       "    </tr>\n",
       "    <tr>\n",
       "      <th>25%</th>\n",
       "      <td>40.000000</td>\n",
       "      <td>30.000000</td>\n",
       "      <td>30.000000</td>\n",
       "      <td>5.500000</td>\n",
       "    </tr>\n",
       "    <tr>\n",
       "      <th>50%</th>\n",
       "      <td>70.000000</td>\n",
       "      <td>50.000000</td>\n",
       "      <td>50.000000</td>\n",
       "      <td>6.000000</td>\n",
       "    </tr>\n",
       "    <tr>\n",
       "      <th>75%</th>\n",
       "      <td>100.000000</td>\n",
       "      <td>60.000000</td>\n",
       "      <td>80.000000</td>\n",
       "      <td>6.500000</td>\n",
       "    </tr>\n",
       "    <tr>\n",
       "      <th>max</th>\n",
       "      <td>180.000000</td>\n",
       "      <td>100.000000</td>\n",
       "      <td>120.000000</td>\n",
       "      <td>6.500000</td>\n",
       "    </tr>\n",
       "  </tbody>\n",
       "</table>\n",
       "</div>"
      ],
      "text/plain": [
       "                N           P           K         pH\n",
       "count   33.000000   33.000000   33.000000  33.000000\n",
       "mean    73.030303   45.454545   55.000000   5.819394\n",
       "std     39.467934   18.972169   30.618622   0.622103\n",
       "min     20.000000   15.000000   10.000000   4.500000\n",
       "25%     40.000000   30.000000   30.000000   5.500000\n",
       "50%     70.000000   50.000000   50.000000   6.000000\n",
       "75%    100.000000   60.000000   80.000000   6.500000\n",
       "max    180.000000  100.000000  120.000000   6.500000"
      ]
     },
     "execution_count": 8,
     "metadata": {},
     "output_type": "execute_result"
    }
   ],
   "source": [
    "merge_fert.describe()"
   ]
  },
  {
   "cell_type": "code",
   "execution_count": 9,
   "id": "indie-hypothetical",
   "metadata": {},
   "outputs": [
    {
     "data": {
      "text/plain": [
       "[<matplotlib.lines.Line2D at 0x1218fdc0>]"
      ]
     },
     "execution_count": 9,
     "metadata": {},
     "output_type": "execute_result"
    },
    {
     "data": {
      "image/png": "[encoded data removed]",
      "text/plain": [
       "<Figure size 432x288 with 1 Axes>"
      ]
     },
     "metadata": {
      "needs_background": "light"
     },
     "output_type": "display_data"
    }
   ],
   "source": [
    "plt.plot(merge_fert[\"N\"])"
   ]
  },
  {
   "cell_type": "code",
   "execution_count": 10,
   "id": "palestinian-lexington",
   "metadata": {},
   "outputs": [
    {
     "data": {
      "text/plain": [
       "[<matplotlib.lines.Line2D at 0x14285310>]"
      ]
     },
     "execution_count": 10,
     "metadata": {},
     "output_type": "execute_result"
    },
    {
     "data": {
      "image/png": "[encoded data removed]",
      "text/plain": [
       "<Figure size 432x288 with 1 Axes>"
      ]
     },
     "metadata": {
      "needs_background": "light"
     },
     "output_type": "display_data"
    }
   ],
   "source": [
    "plt.plot(merge_fert[\"P\"])"
   ]
  },
  {
   "cell_type": "code",
   "execution_count": 11,
   "id": "suffering-pepper",
   "metadata": {},
   "outputs": [
    {
     "data": {
      "text/plain": [
       "[<matplotlib.lines.Line2D at 0x142e42e0>]"
      ]
     },
     "execution_count": 11,
     "metadata": {},
     "output_type": "execute_result"
    },
    {
     "data": {
      "image/png": "[encoded data removed]",
      "text/plain": [
       "<Figure size 432x288 with 1 Axes>"
      ]
     },
     "metadata": {
      "needs_background": "light"
     },
     "output_type": "display_data"
    }
   ],
   "source": [
    "plt.plot(merge_fert[\"K\"])"
   ]
  },
  {
   "cell_type": "code",
   "execution_count": 12,
   "id": "severe-acting",
   "metadata": {},
   "outputs": [
    {
     "data": {
      "text/plain": [
       "[<matplotlib.lines.Line2D at 0x14340220>]"
      ]
     },
     "execution_count": 12,
     "metadata": {},
     "output_type": "execute_result"
    },
    {
     "data": {
      "image/png": "[encoded data removed]",
      "text/plain": [
       "<Figure size 432x288 with 1 Axes>"
      ]
     },
     "metadata": {
      "needs_background": "light"
     },
     "output_type": "display_data"
    }
   ],
   "source": [
    "plt.plot(merge_fert[\"pH\"])"
   ]
  },
  {
   "cell_type": "code",
   "execution_count": 13,
   "id": "external-saying",
   "metadata": {},
   "outputs": [
    {
     "data": {
      "text/plain": [
       "<AxesSubplot:>"
      ]
     },
     "execution_count": 13,
     "metadata": {},
     "output_type": "execute_result"
    },
    {
     "data": {
      "image/png": "[encoded data removed]",
      "text/plain": [
       "<Figure size 432x288 with 2 Axes>"
      ]
     },
     "metadata": {
      "needs_background": "light"
     },
     "output_type": "display_data"
    }
   ],
   "source": [
    "sns.heatmap(merge_fert.corr(),annot=True)"
   ]
  },
  {
   "cell_type": "code",
   "execution_count": 14,
   "id": "literary-letters",
   "metadata": {},
   "outputs": [
    {
     "data": {
      "text/plain": [
       "array(['tomato', 'Jowar(Sorghum)', 'Sunflower', 'Barley(JAV)', 'Soyabean',\n",
       "       'Chickoo', 'Guava', 'Brinjal', 'Carrot', 'Ragi( naachnnii)',\n",
       "       'Capsicum', 'Cabbage', 'Cauliflower', 'Cucumber', 'Drumstick',\n",
       "       'Onion', 'Potato', 'Pumpkin', 'Radish', 'Sweet Potato', 'Spinach',\n",
       "       'Pineapple', 'Custard apple', 'Ginger', 'Turmeric',\n",
       "       'Mustard seeds', 'Green Peas', 'Chickpeas(Channa)',\n",
       "       'Coriander seeds', 'Beetroot', 'Chili', 'Olive',\n",
       "       'Gooseberry(Amla)'], dtype=object)"
      ]
     },
     "execution_count": 14,
     "metadata": {},
     "output_type": "execute_result"
    }
   ],
   "source": [
    "merge_fert.Crop.unique()"
   ]
  },
  {
   "cell_type": "code",
   "execution_count": 15,
   "id": "improved-agenda",
   "metadata": {},
   "outputs": [],
   "source": [
    "#merge_crop = pd.read_csv('https://raw.githubusercontent.com/Gladiator07/Harvestify/master/Data-raw/MergeFileCrop.csv')\n",
    "merge_crop = pd.read_csv('C:/Users/User/Desktop/research/Agriculture/DATA/TEMP-FINAL/final_cp_data.csv')\n",
    "\n",
    "reco_fert = merge_fert"
   ]
  },
  {
   "cell_type": "code",
   "execution_count": 16,
   "id": "auburn-lambda",
   "metadata": {},
   "outputs": [
    {
     "data": {
      "text/plain": [
       "array(['tomato', 'Jowar(Sorghum)', 'Sunflower', 'Barley(JAV)', 'Soyabean',\n",
       "       'Chickoo', 'Guava', 'Brinjal', 'Carrot', 'Ragi( naachnnii)',\n",
       "       'Capsicum', 'Cabbage', 'Cauliflower', 'Cucumber', 'Drumstick',\n",
       "       'Onion', 'Potato', 'Pumpkin', 'Radish', 'Sweet Potato', 'Spinach',\n",
       "       'Pineapple', 'Custard apple', 'Ginger', 'Turmeric',\n",
       "       'Mustard seeds', 'Green Peas', 'Chickpeas(Channa)',\n",
       "       'Coriander seeds', 'Beetroot', 'Chili', 'Olive',\n",
       "       'Gooseberry(Amla)'], dtype=object)"
      ]
     },
     "execution_count": 16,
     "metadata": {},
     "output_type": "execute_result"
    }
   ],
   "source": [
    "merge_crop.label.unique()"
   ]
  },
  {
   "cell_type": "code",
   "execution_count": 17,
   "id": "proof-listening",
   "metadata": {},
   "outputs": [
    {
     "data": {
      "text/html": [
       "<div>\n",
       "<style scoped>\n",
       "    .dataframe tbody tr th:only-of-type {\n",
       "        vertical-align: middle;\n",
       "    }\n",
       "\n",
       "    .dataframe tbody tr th {\n",
       "        vertical-align: top;\n",
       "    }\n",
       "\n",
       "    .dataframe thead th {\n",
       "        text-align: right;\n",
       "    }\n",
       "</style>\n",
       "<table border=\"1\" class=\"dataframe\">\n",
       "  <thead>\n",
       "    <tr style=\"text-align: right;\">\n",
       "      <th></th>\n",
       "      <th>temperature</th>\n",
       "      <th>humidity</th>\n",
       "      <th>rainfall</th>\n",
       "      <th>label</th>\n",
       "    </tr>\n",
       "  </thead>\n",
       "  <tbody>\n",
       "    <tr>\n",
       "      <th>0</th>\n",
       "      <td>22.368493</td>\n",
       "      <td>74.991838</td>\n",
       "      <td>509.587238</td>\n",
       "      <td>tomato</td>\n",
       "    </tr>\n",
       "    <tr>\n",
       "      <th>1</th>\n",
       "      <td>22.357459</td>\n",
       "      <td>66.849420</td>\n",
       "      <td>476.082614</td>\n",
       "      <td>tomato</td>\n",
       "    </tr>\n",
       "    <tr>\n",
       "      <th>2</th>\n",
       "      <td>23.357459</td>\n",
       "      <td>69.849420</td>\n",
       "      <td>479.082614</td>\n",
       "      <td>tomato</td>\n",
       "    </tr>\n",
       "    <tr>\n",
       "      <th>3</th>\n",
       "      <td>23.104461</td>\n",
       "      <td>67.259138</td>\n",
       "      <td>598.946372</td>\n",
       "      <td>tomato</td>\n",
       "    </tr>\n",
       "    <tr>\n",
       "      <th>4</th>\n",
       "      <td>22.055396</td>\n",
       "      <td>66.594238</td>\n",
       "      <td>434.396957</td>\n",
       "      <td>tomato</td>\n",
       "    </tr>\n",
       "  </tbody>\n",
       "</table>\n",
       "</div>"
      ],
      "text/plain": [
       "   temperature   humidity    rainfall   label\n",
       "0    22.368493  74.991838  509.587238  tomato\n",
       "1    22.357459  66.849420  476.082614  tomato\n",
       "2    23.357459  69.849420  479.082614  tomato\n",
       "3    23.104461  67.259138  598.946372  tomato\n",
       "4    22.055396  66.594238  434.396957  tomato"
      ]
     },
     "execution_count": 17,
     "metadata": {},
     "output_type": "execute_result"
    }
   ],
   "source": [
    "#del merge_crop[\"Unnamed: 0\"]\n",
    "merge_crop.head()"
   ]
  },
  {
   "cell_type": "code",
   "execution_count": 18,
   "id": "united-pressure",
   "metadata": {},
   "outputs": [
    {
     "data": {
      "text/plain": [
       "3300"
      ]
     },
     "execution_count": 18,
     "metadata": {},
     "output_type": "execute_result"
    }
   ],
   "source": [
    "merge_crop.shape[0]"
   ]
  },
  {
   "cell_type": "code",
   "execution_count": 19,
   "id": "julian-fountain",
   "metadata": {},
   "outputs": [
    {
     "data": {
      "text/plain": [
       "'tomato'"
      ]
     },
     "execution_count": 19,
     "metadata": {},
     "output_type": "execute_result"
    }
   ],
   "source": [
    "crop = merge_crop.label.iloc[0]\n",
    "crop"
   ]
  },
  {
   "cell_type": "code",
   "execution_count": 20,
   "id": "reliable-plate",
   "metadata": {},
   "outputs": [
    {
     "data": {
      "text/plain": [
       "array(['tomato', 100, 40, 90, 6.0], dtype=object)"
      ]
     },
     "execution_count": 20,
     "metadata": {},
     "output_type": "execute_result"
    }
   ],
   "source": [
    "for i in range(150,1000):\n",
    "    crop = merge_crop.label.iloc[i]\n",
    "    temp = reco_fert.iloc[0]\n",
    "temp.unique()"
   ]
  },
  {
   "cell_type": "code",
   "execution_count": null,
   "id": "convertible-exception",
   "metadata": {},
   "outputs": [],
   "source": []
  },
  {
   "cell_type": "code",
   "execution_count": null,
   "id": "gorgeous-standing",
   "metadata": {},
   "outputs": [],
   "source": []
  },
  {
   "cell_type": "code",
   "execution_count": 21,
   "id": "referenced-price",
   "metadata": {},
   "outputs": [],
   "source": [
    "Y = reco_fert.iloc[:].values\n",
    "#Y"
   ]
  },
  {
   "cell_type": "code",
   "execution_count": 22,
   "id": "beneficial-plant",
   "metadata": {},
   "outputs": [],
   "source": [
    "#Add +/-3 for every NPK value\n",
    "#unique 36\n",
    "# to look for our labels in main data label\n",
    "import random\n",
    "temp = pd.DataFrame(columns = ['N','P','K','pH'])\n",
    "for i in range(0,merge_crop.shape[0]):\n",
    "    crop = merge_crop.label.iloc[i]\n",
    "    #print(crop)\n",
    "    N = reco_fert[reco_fert['Crop'] == crop][\"N\"].iloc[0] + random.randint(-20,20)\n",
    "    P = reco_fert[reco_fert['Crop'] == crop][\"P\"].iloc[0] + random.randint(-5,20)\n",
    "    K = reco_fert[reco_fert['Crop'] == crop][\"K\"].iloc[0] + random.randint(-5,5)\n",
    "    pH = reco_fert[reco_fert['Crop'] == crop][\"pH\"].iloc[0] + round(random.uniform(-0.5,0.5), 2)\n",
    "    \n",
    "    #pH = reco_fert[reco_fert['Crop'] == crop][\"pH\"].iloc[0] + random.randint(-0.5,0.5)\n",
    "    d = {\"N\":N,\"P\":P,\"K\":K,\"pH\":pH}\n",
    "    #print(d)\n",
    "    temp = temp.append(d,ignore_index = True)"
   ]
  },
  {
   "cell_type": "code",
   "execution_count": 23,
   "id": "approved-research",
   "metadata": {},
   "outputs": [
    {
     "data": {
      "text/html": [
       "<div>\n",
       "<style scoped>\n",
       "    .dataframe tbody tr th:only-of-type {\n",
       "        vertical-align: middle;\n",
       "    }\n",
       "\n",
       "    .dataframe tbody tr th {\n",
       "        vertical-align: top;\n",
       "    }\n",
       "\n",
       "    .dataframe thead th {\n",
       "        text-align: right;\n",
       "    }\n",
       "</style>\n",
       "<table border=\"1\" class=\"dataframe\">\n",
       "  <thead>\n",
       "    <tr style=\"text-align: right;\">\n",
       "      <th></th>\n",
       "      <th>N</th>\n",
       "      <th>P</th>\n",
       "      <th>K</th>\n",
       "      <th>pH</th>\n",
       "    </tr>\n",
       "  </thead>\n",
       "  <tbody>\n",
       "    <tr>\n",
       "      <th>0</th>\n",
       "      <td>93.0</td>\n",
       "      <td>57.0</td>\n",
       "      <td>93.0</td>\n",
       "      <td>6.41</td>\n",
       "    </tr>\n",
       "    <tr>\n",
       "      <th>1</th>\n",
       "      <td>101.0</td>\n",
       "      <td>51.0</td>\n",
       "      <td>95.0</td>\n",
       "      <td>6.40</td>\n",
       "    </tr>\n",
       "    <tr>\n",
       "      <th>2</th>\n",
       "      <td>98.0</td>\n",
       "      <td>47.0</td>\n",
       "      <td>95.0</td>\n",
       "      <td>6.14</td>\n",
       "    </tr>\n",
       "    <tr>\n",
       "      <th>3</th>\n",
       "      <td>96.0</td>\n",
       "      <td>35.0</td>\n",
       "      <td>88.0</td>\n",
       "      <td>6.27</td>\n",
       "    </tr>\n",
       "    <tr>\n",
       "      <th>4</th>\n",
       "      <td>118.0</td>\n",
       "      <td>59.0</td>\n",
       "      <td>87.0</td>\n",
       "      <td>6.14</td>\n",
       "    </tr>\n",
       "    <tr>\n",
       "      <th>...</th>\n",
       "      <td>...</td>\n",
       "      <td>...</td>\n",
       "      <td>...</td>\n",
       "      <td>...</td>\n",
       "    </tr>\n",
       "    <tr>\n",
       "      <th>95</th>\n",
       "      <td>103.0</td>\n",
       "      <td>49.0</td>\n",
       "      <td>89.0</td>\n",
       "      <td>6.23</td>\n",
       "    </tr>\n",
       "    <tr>\n",
       "      <th>96</th>\n",
       "      <td>83.0</td>\n",
       "      <td>35.0</td>\n",
       "      <td>88.0</td>\n",
       "      <td>5.73</td>\n",
       "    </tr>\n",
       "    <tr>\n",
       "      <th>97</th>\n",
       "      <td>98.0</td>\n",
       "      <td>42.0</td>\n",
       "      <td>94.0</td>\n",
       "      <td>6.33</td>\n",
       "    </tr>\n",
       "    <tr>\n",
       "      <th>98</th>\n",
       "      <td>88.0</td>\n",
       "      <td>48.0</td>\n",
       "      <td>86.0</td>\n",
       "      <td>6.13</td>\n",
       "    </tr>\n",
       "    <tr>\n",
       "      <th>99</th>\n",
       "      <td>93.0</td>\n",
       "      <td>46.0</td>\n",
       "      <td>87.0</td>\n",
       "      <td>5.56</td>\n",
       "    </tr>\n",
       "  </tbody>\n",
       "</table>\n",
       "<p>100 rows × 4 columns</p>\n",
       "</div>"
      ],
      "text/plain": [
       "        N     P     K    pH\n",
       "0    93.0  57.0  93.0  6.41\n",
       "1   101.0  51.0  95.0  6.40\n",
       "2    98.0  47.0  95.0  6.14\n",
       "3    96.0  35.0  88.0  6.27\n",
       "4   118.0  59.0  87.0  6.14\n",
       "..    ...   ...   ...   ...\n",
       "95  103.0  49.0  89.0  6.23\n",
       "96   83.0  35.0  88.0  5.73\n",
       "97   98.0  42.0  94.0  6.33\n",
       "98   88.0  48.0  86.0  6.13\n",
       "99   93.0  46.0  87.0  5.56\n",
       "\n",
       "[100 rows x 4 columns]"
      ]
     },
     "execution_count": 23,
     "metadata": {},
     "output_type": "execute_result"
    }
   ],
   "source": [
    "temp.head(100)"
   ]
  },
  {
   "cell_type": "code",
   "execution_count": 24,
   "id": "lonely-committee",
   "metadata": {},
   "outputs": [
    {
     "data": {
      "text/html": [
       "<div>\n",
       "<style scoped>\n",
       "    .dataframe tbody tr th:only-of-type {\n",
       "        vertical-align: middle;\n",
       "    }\n",
       "\n",
       "    .dataframe tbody tr th {\n",
       "        vertical-align: top;\n",
       "    }\n",
       "\n",
       "    .dataframe thead th {\n",
       "        text-align: right;\n",
       "    }\n",
       "</style>\n",
       "<table border=\"1\" class=\"dataframe\">\n",
       "  <thead>\n",
       "    <tr style=\"text-align: right;\">\n",
       "      <th></th>\n",
       "      <th>N</th>\n",
       "      <th>P</th>\n",
       "      <th>K</th>\n",
       "      <th>pH</th>\n",
       "    </tr>\n",
       "  </thead>\n",
       "  <tbody>\n",
       "    <tr>\n",
       "      <th>0</th>\n",
       "      <td>93.0</td>\n",
       "      <td>57.0</td>\n",
       "      <td>93.0</td>\n",
       "      <td>6.41</td>\n",
       "    </tr>\n",
       "    <tr>\n",
       "      <th>1</th>\n",
       "      <td>101.0</td>\n",
       "      <td>51.0</td>\n",
       "      <td>95.0</td>\n",
       "      <td>6.40</td>\n",
       "    </tr>\n",
       "    <tr>\n",
       "      <th>2</th>\n",
       "      <td>98.0</td>\n",
       "      <td>47.0</td>\n",
       "      <td>95.0</td>\n",
       "      <td>6.14</td>\n",
       "    </tr>\n",
       "    <tr>\n",
       "      <th>3</th>\n",
       "      <td>96.0</td>\n",
       "      <td>35.0</td>\n",
       "      <td>88.0</td>\n",
       "      <td>6.27</td>\n",
       "    </tr>\n",
       "    <tr>\n",
       "      <th>4</th>\n",
       "      <td>118.0</td>\n",
       "      <td>59.0</td>\n",
       "      <td>87.0</td>\n",
       "      <td>6.14</td>\n",
       "    </tr>\n",
       "    <tr>\n",
       "      <th>...</th>\n",
       "      <td>...</td>\n",
       "      <td>...</td>\n",
       "      <td>...</td>\n",
       "      <td>...</td>\n",
       "    </tr>\n",
       "    <tr>\n",
       "      <th>3295</th>\n",
       "      <td>1.0</td>\n",
       "      <td>55.0</td>\n",
       "      <td>24.0</td>\n",
       "      <td>4.42</td>\n",
       "    </tr>\n",
       "    <tr>\n",
       "      <th>3296</th>\n",
       "      <td>8.0</td>\n",
       "      <td>47.0</td>\n",
       "      <td>21.0</td>\n",
       "      <td>4.04</td>\n",
       "    </tr>\n",
       "    <tr>\n",
       "      <th>3297</th>\n",
       "      <td>10.0</td>\n",
       "      <td>51.0</td>\n",
       "      <td>25.0</td>\n",
       "      <td>4.80</td>\n",
       "    </tr>\n",
       "    <tr>\n",
       "      <th>3298</th>\n",
       "      <td>31.0</td>\n",
       "      <td>53.0</td>\n",
       "      <td>24.0</td>\n",
       "      <td>4.18</td>\n",
       "    </tr>\n",
       "    <tr>\n",
       "      <th>3299</th>\n",
       "      <td>13.0</td>\n",
       "      <td>58.0</td>\n",
       "      <td>24.0</td>\n",
       "      <td>4.63</td>\n",
       "    </tr>\n",
       "  </tbody>\n",
       "</table>\n",
       "<p>3300 rows × 4 columns</p>\n",
       "</div>"
      ],
      "text/plain": [
       "          N     P     K    pH\n",
       "0      93.0  57.0  93.0  6.41\n",
       "1     101.0  51.0  95.0  6.40\n",
       "2      98.0  47.0  95.0  6.14\n",
       "3      96.0  35.0  88.0  6.27\n",
       "4     118.0  59.0  87.0  6.14\n",
       "...     ...   ...   ...   ...\n",
       "3295    1.0  55.0  24.0  4.42\n",
       "3296    8.0  47.0  21.0  4.04\n",
       "3297   10.0  51.0  25.0  4.80\n",
       "3298   31.0  53.0  24.0  4.18\n",
       "3299   13.0  58.0  24.0  4.63\n",
       "\n",
       "[3300 rows x 4 columns]"
      ]
     },
     "execution_count": 24,
     "metadata": {},
     "output_type": "execute_result"
    }
   ],
   "source": [
    "temp"
   ]
  },
  {
   "cell_type": "code",
   "execution_count": 25,
   "id": "protected-giant",
   "metadata": {},
   "outputs": [],
   "source": [
    "merge_crop['N'] = temp['N']\n",
    "merge_crop['P'] = temp['P']\n",
    "merge_crop['K'] = temp['K']\n",
    "merge_crop['ph'] = temp['pH']"
   ]
  },
  {
   "cell_type": "code",
   "execution_count": 26,
   "id": "generic-being",
   "metadata": {},
   "outputs": [
    {
     "data": {
      "text/html": [
       "<div>\n",
       "<style scoped>\n",
       "    .dataframe tbody tr th:only-of-type {\n",
       "        vertical-align: middle;\n",
       "    }\n",
       "\n",
       "    .dataframe tbody tr th {\n",
       "        vertical-align: top;\n",
       "    }\n",
       "\n",
       "    .dataframe thead th {\n",
       "        text-align: right;\n",
       "    }\n",
       "</style>\n",
       "<table border=\"1\" class=\"dataframe\">\n",
       "  <thead>\n",
       "    <tr style=\"text-align: right;\">\n",
       "      <th></th>\n",
       "      <th>temperature</th>\n",
       "      <th>humidity</th>\n",
       "      <th>rainfall</th>\n",
       "      <th>label</th>\n",
       "      <th>N</th>\n",
       "      <th>P</th>\n",
       "      <th>K</th>\n",
       "      <th>ph</th>\n",
       "    </tr>\n",
       "  </thead>\n",
       "  <tbody>\n",
       "    <tr>\n",
       "      <th>0</th>\n",
       "      <td>22.368493</td>\n",
       "      <td>74.991838</td>\n",
       "      <td>509.587238</td>\n",
       "      <td>tomato</td>\n",
       "      <td>93.0</td>\n",
       "      <td>57.0</td>\n",
       "      <td>93.0</td>\n",
       "      <td>6.41</td>\n",
       "    </tr>\n",
       "    <tr>\n",
       "      <th>1</th>\n",
       "      <td>22.357459</td>\n",
       "      <td>66.849420</td>\n",
       "      <td>476.082614</td>\n",
       "      <td>tomato</td>\n",
       "      <td>101.0</td>\n",
       "      <td>51.0</td>\n",
       "      <td>95.0</td>\n",
       "      <td>6.40</td>\n",
       "    </tr>\n",
       "    <tr>\n",
       "      <th>2</th>\n",
       "      <td>23.357459</td>\n",
       "      <td>69.849420</td>\n",
       "      <td>479.082614</td>\n",
       "      <td>tomato</td>\n",
       "      <td>98.0</td>\n",
       "      <td>47.0</td>\n",
       "      <td>95.0</td>\n",
       "      <td>6.14</td>\n",
       "    </tr>\n",
       "    <tr>\n",
       "      <th>3</th>\n",
       "      <td>23.104461</td>\n",
       "      <td>67.259138</td>\n",
       "      <td>598.946372</td>\n",
       "      <td>tomato</td>\n",
       "      <td>96.0</td>\n",
       "      <td>35.0</td>\n",
       "      <td>88.0</td>\n",
       "      <td>6.27</td>\n",
       "    </tr>\n",
       "    <tr>\n",
       "      <th>4</th>\n",
       "      <td>22.055396</td>\n",
       "      <td>66.594238</td>\n",
       "      <td>434.396957</td>\n",
       "      <td>tomato</td>\n",
       "      <td>118.0</td>\n",
       "      <td>59.0</td>\n",
       "      <td>87.0</td>\n",
       "      <td>6.14</td>\n",
       "    </tr>\n",
       "    <tr>\n",
       "      <th>...</th>\n",
       "      <td>...</td>\n",
       "      <td>...</td>\n",
       "      <td>...</td>\n",
       "      <td>...</td>\n",
       "      <td>...</td>\n",
       "      <td>...</td>\n",
       "      <td>...</td>\n",
       "      <td>...</td>\n",
       "    </tr>\n",
       "    <tr>\n",
       "      <th>3295</th>\n",
       "      <td>13.796871</td>\n",
       "      <td>35.137547</td>\n",
       "      <td>705.455074</td>\n",
       "      <td>Gooseberry(Amla)</td>\n",
       "      <td>1.0</td>\n",
       "      <td>55.0</td>\n",
       "      <td>24.0</td>\n",
       "      <td>4.42</td>\n",
       "    </tr>\n",
       "    <tr>\n",
       "      <th>3296</th>\n",
       "      <td>13.050669</td>\n",
       "      <td>44.360076</td>\n",
       "      <td>727.967163</td>\n",
       "      <td>Gooseberry(Amla)</td>\n",
       "      <td>8.0</td>\n",
       "      <td>47.0</td>\n",
       "      <td>21.0</td>\n",
       "      <td>4.04</td>\n",
       "    </tr>\n",
       "    <tr>\n",
       "      <th>3297</th>\n",
       "      <td>10.300424</td>\n",
       "      <td>43.877481</td>\n",
       "      <td>667.950750</td>\n",
       "      <td>Gooseberry(Amla)</td>\n",
       "      <td>10.0</td>\n",
       "      <td>51.0</td>\n",
       "      <td>25.0</td>\n",
       "      <td>4.80</td>\n",
       "    </tr>\n",
       "    <tr>\n",
       "      <th>3298</th>\n",
       "      <td>14.972180</td>\n",
       "      <td>37.795404</td>\n",
       "      <td>700.104649</td>\n",
       "      <td>Gooseberry(Amla)</td>\n",
       "      <td>31.0</td>\n",
       "      <td>53.0</td>\n",
       "      <td>24.0</td>\n",
       "      <td>4.18</td>\n",
       "    </tr>\n",
       "    <tr>\n",
       "      <th>3299</th>\n",
       "      <td>13.423079</td>\n",
       "      <td>39.983853</td>\n",
       "      <td>632.746021</td>\n",
       "      <td>Gooseberry(Amla)</td>\n",
       "      <td>13.0</td>\n",
       "      <td>58.0</td>\n",
       "      <td>24.0</td>\n",
       "      <td>4.63</td>\n",
       "    </tr>\n",
       "  </tbody>\n",
       "</table>\n",
       "<p>3300 rows × 8 columns</p>\n",
       "</div>"
      ],
      "text/plain": [
       "      temperature   humidity    rainfall             label      N     P     K  \\\n",
       "0       22.368493  74.991838  509.587238            tomato   93.0  57.0  93.0   \n",
       "1       22.357459  66.849420  476.082614            tomato  101.0  51.0  95.0   \n",
       "2       23.357459  69.849420  479.082614            tomato   98.0  47.0  95.0   \n",
       "3       23.104461  67.259138  598.946372            tomato   96.0  35.0  88.0   \n",
       "4       22.055396  66.594238  434.396957            tomato  118.0  59.0  87.0   \n",
       "...           ...        ...         ...               ...    ...   ...   ...   \n",
       "3295    13.796871  35.137547  705.455074  Gooseberry(Amla)    1.0  55.0  24.0   \n",
       "3296    13.050669  44.360076  727.967163  Gooseberry(Amla)    8.0  47.0  21.0   \n",
       "3297    10.300424  43.877481  667.950750  Gooseberry(Amla)   10.0  51.0  25.0   \n",
       "3298    14.972180  37.795404  700.104649  Gooseberry(Amla)   31.0  53.0  24.0   \n",
       "3299    13.423079  39.983853  632.746021  Gooseberry(Amla)   13.0  58.0  24.0   \n",
       "\n",
       "        ph  \n",
       "0     6.41  \n",
       "1     6.40  \n",
       "2     6.14  \n",
       "3     6.27  \n",
       "4     6.14  \n",
       "...    ...  \n",
       "3295  4.42  \n",
       "3296  4.04  \n",
       "3297  4.80  \n",
       "3298  4.18  \n",
       "3299  4.63  \n",
       "\n",
       "[3300 rows x 8 columns]"
      ]
     },
     "execution_count": 26,
     "metadata": {},
     "output_type": "execute_result"
    }
   ],
   "source": [
    "merge_crop"
   ]
  },
  {
   "cell_type": "code",
   "execution_count": 27,
   "id": "quick-pound",
   "metadata": {},
   "outputs": [],
   "source": [
    "merge_crop = merge_crop[[ 'N', 'P', 'K','temperature', 'humidity', 'ph', 'rainfall', 'label']]"
   ]
  },
  {
   "cell_type": "code",
   "execution_count": 28,
   "id": "proprietary-representative",
   "metadata": {},
   "outputs": [],
   "source": [
    "merge_crop.to_csv(\"C:/Users/User/Desktop/research/Agriculture/DATA/TEMP-FINAL/crop_recommendation.csv\",index=False)"
   ]
  },
  {
   "cell_type": "code",
   "execution_count": 29,
   "id": "established-eagle",
   "metadata": {},
   "outputs": [
    {
     "data": {
      "text/html": [
       "<div>\n",
       "<style scoped>\n",
       "    .dataframe tbody tr th:only-of-type {\n",
       "        vertical-align: middle;\n",
       "    }\n",
       "\n",
       "    .dataframe tbody tr th {\n",
       "        vertical-align: top;\n",
       "    }\n",
       "\n",
       "    .dataframe thead th {\n",
       "        text-align: right;\n",
       "    }\n",
       "</style>\n",
       "<table border=\"1\" class=\"dataframe\">\n",
       "  <thead>\n",
       "    <tr style=\"text-align: right;\">\n",
       "      <th></th>\n",
       "      <th>N</th>\n",
       "      <th>P</th>\n",
       "      <th>K</th>\n",
       "      <th>temperature</th>\n",
       "      <th>humidity</th>\n",
       "      <th>ph</th>\n",
       "      <th>rainfall</th>\n",
       "      <th>label</th>\n",
       "    </tr>\n",
       "  </thead>\n",
       "  <tbody>\n",
       "    <tr>\n",
       "      <th>0</th>\n",
       "      <td>93.0</td>\n",
       "      <td>57.0</td>\n",
       "      <td>93.0</td>\n",
       "      <td>22.368493</td>\n",
       "      <td>74.991838</td>\n",
       "      <td>6.41</td>\n",
       "      <td>509.587238</td>\n",
       "      <td>tomato</td>\n",
       "    </tr>\n",
       "    <tr>\n",
       "      <th>1</th>\n",
       "      <td>101.0</td>\n",
       "      <td>51.0</td>\n",
       "      <td>95.0</td>\n",
       "      <td>22.357459</td>\n",
       "      <td>66.849420</td>\n",
       "      <td>6.40</td>\n",
       "      <td>476.082614</td>\n",
       "      <td>tomato</td>\n",
       "    </tr>\n",
       "    <tr>\n",
       "      <th>2</th>\n",
       "      <td>98.0</td>\n",
       "      <td>47.0</td>\n",
       "      <td>95.0</td>\n",
       "      <td>23.357459</td>\n",
       "      <td>69.849420</td>\n",
       "      <td>6.14</td>\n",
       "      <td>479.082614</td>\n",
       "      <td>tomato</td>\n",
       "    </tr>\n",
       "    <tr>\n",
       "      <th>3</th>\n",
       "      <td>96.0</td>\n",
       "      <td>35.0</td>\n",
       "      <td>88.0</td>\n",
       "      <td>23.104461</td>\n",
       "      <td>67.259138</td>\n",
       "      <td>6.27</td>\n",
       "      <td>598.946372</td>\n",
       "      <td>tomato</td>\n",
       "    </tr>\n",
       "    <tr>\n",
       "      <th>4</th>\n",
       "      <td>118.0</td>\n",
       "      <td>59.0</td>\n",
       "      <td>87.0</td>\n",
       "      <td>22.055396</td>\n",
       "      <td>66.594238</td>\n",
       "      <td>6.14</td>\n",
       "      <td>434.396957</td>\n",
       "      <td>tomato</td>\n",
       "    </tr>\n",
       "    <tr>\n",
       "      <th>...</th>\n",
       "      <td>...</td>\n",
       "      <td>...</td>\n",
       "      <td>...</td>\n",
       "      <td>...</td>\n",
       "      <td>...</td>\n",
       "      <td>...</td>\n",
       "      <td>...</td>\n",
       "      <td>...</td>\n",
       "    </tr>\n",
       "    <tr>\n",
       "      <th>3295</th>\n",
       "      <td>1.0</td>\n",
       "      <td>55.0</td>\n",
       "      <td>24.0</td>\n",
       "      <td>13.796871</td>\n",
       "      <td>35.137547</td>\n",
       "      <td>4.42</td>\n",
       "      <td>705.455074</td>\n",
       "      <td>Gooseberry(Amla)</td>\n",
       "    </tr>\n",
       "    <tr>\n",
       "      <th>3296</th>\n",
       "      <td>8.0</td>\n",
       "      <td>47.0</td>\n",
       "      <td>21.0</td>\n",
       "      <td>13.050669</td>\n",
       "      <td>44.360076</td>\n",
       "      <td>4.04</td>\n",
       "      <td>727.967163</td>\n",
       "      <td>Gooseberry(Amla)</td>\n",
       "    </tr>\n",
       "    <tr>\n",
       "      <th>3297</th>\n",
       "      <td>10.0</td>\n",
       "      <td>51.0</td>\n",
       "      <td>25.0</td>\n",
       "      <td>10.300424</td>\n",
       "      <td>43.877481</td>\n",
       "      <td>4.80</td>\n",
       "      <td>667.950750</td>\n",
       "      <td>Gooseberry(Amla)</td>\n",
       "    </tr>\n",
       "    <tr>\n",
       "      <th>3298</th>\n",
       "      <td>31.0</td>\n",
       "      <td>53.0</td>\n",
       "      <td>24.0</td>\n",
       "      <td>14.972180</td>\n",
       "      <td>37.795404</td>\n",
       "      <td>4.18</td>\n",
       "      <td>700.104649</td>\n",
       "      <td>Gooseberry(Amla)</td>\n",
       "    </tr>\n",
       "    <tr>\n",
       "      <th>3299</th>\n",
       "      <td>13.0</td>\n",
       "      <td>58.0</td>\n",
       "      <td>24.0</td>\n",
       "      <td>13.423079</td>\n",
       "      <td>39.983853</td>\n",
       "      <td>4.63</td>\n",
       "      <td>632.746021</td>\n",
       "      <td>Gooseberry(Amla)</td>\n",
       "    </tr>\n",
       "  </tbody>\n",
       "</table>\n",
       "<p>3300 rows × 8 columns</p>\n",
       "</div>"
      ],
      "text/plain": [
       "          N     P     K  temperature   humidity    ph    rainfall  \\\n",
       "0      93.0  57.0  93.0    22.368493  74.991838  6.41  509.587238   \n",
       "1     101.0  51.0  95.0    22.357459  66.849420  6.40  476.082614   \n",
       "2      98.0  47.0  95.0    23.357459  69.849420  6.14  479.082614   \n",
       "3      96.0  35.0  88.0    23.104461  67.259138  6.27  598.946372   \n",
       "4     118.0  59.0  87.0    22.055396  66.594238  6.14  434.396957   \n",
       "...     ...   ...   ...          ...        ...   ...         ...   \n",
       "3295    1.0  55.0  24.0    13.796871  35.137547  4.42  705.455074   \n",
       "3296    8.0  47.0  21.0    13.050669  44.360076  4.04  727.967163   \n",
       "3297   10.0  51.0  25.0    10.300424  43.877481  4.80  667.950750   \n",
       "3298   31.0  53.0  24.0    14.972180  37.795404  4.18  700.104649   \n",
       "3299   13.0  58.0  24.0    13.423079  39.983853  4.63  632.746021   \n",
       "\n",
       "                 label  \n",
       "0               tomato  \n",
       "1               tomato  \n",
       "2               tomato  \n",
       "3               tomato  \n",
       "4               tomato  \n",
       "...                ...  \n",
       "3295  Gooseberry(Amla)  \n",
       "3296  Gooseberry(Amla)  \n",
       "3297  Gooseberry(Amla)  \n",
       "3298  Gooseberry(Amla)  \n",
       "3299  Gooseberry(Amla)  \n",
       "\n",
       "[3300 rows x 8 columns]"
      ]
     },
     "execution_count": 29,
     "metadata": {},
     "output_type": "execute_result"
    }
   ],
   "source": [
    "df = pd.read_csv(\"C:/Users/User/Desktop/research/Agriculture/DATA/TEMP-FINAL/crop_recommendation.csv\")\n",
    "df"
   ]
  },
  {
   "cell_type": "code",
   "execution_count": 30,
   "id": "alpha-cycling",
   "metadata": {},
   "outputs": [
    {
     "data": {
      "text/plain": [
       "(3300, 8)"
      ]
     },
     "execution_count": 30,
     "metadata": {},
     "output_type": "execute_result"
    }
   ],
   "source": [
    "df.shape"
   ]
  },
  {
   "cell_type": "code",
   "execution_count": 31,
   "id": "challenging-occasion",
   "metadata": {},
   "outputs": [
    {
     "data": {
      "text/html": [
       "<div>\n",
       "<style scoped>\n",
       "    .dataframe tbody tr th:only-of-type {\n",
       "        vertical-align: middle;\n",
       "    }\n",
       "\n",
       "    .dataframe tbody tr th {\n",
       "        vertical-align: top;\n",
       "    }\n",
       "\n",
       "    .dataframe thead th {\n",
       "        text-align: right;\n",
       "    }\n",
       "</style>\n",
       "<table border=\"1\" class=\"dataframe\">\n",
       "  <thead>\n",
       "    <tr style=\"text-align: right;\">\n",
       "      <th></th>\n",
       "      <th>N</th>\n",
       "      <th>P</th>\n",
       "      <th>K</th>\n",
       "      <th>temperature</th>\n",
       "      <th>humidity</th>\n",
       "      <th>ph</th>\n",
       "      <th>rainfall</th>\n",
       "      <th>label</th>\n",
       "    </tr>\n",
       "  </thead>\n",
       "  <tbody>\n",
       "    <tr>\n",
       "      <th>0</th>\n",
       "      <td>90</td>\n",
       "      <td>42</td>\n",
       "      <td>43</td>\n",
       "      <td>20.879744</td>\n",
       "      <td>82.002744</td>\n",
       "      <td>6.502985</td>\n",
       "      <td>202.935536</td>\n",
       "      <td>rice</td>\n",
       "    </tr>\n",
       "    <tr>\n",
       "      <th>1</th>\n",
       "      <td>85</td>\n",
       "      <td>58</td>\n",
       "      <td>41</td>\n",
       "      <td>21.770462</td>\n",
       "      <td>80.319644</td>\n",
       "      <td>7.038096</td>\n",
       "      <td>226.655537</td>\n",
       "      <td>rice</td>\n",
       "    </tr>\n",
       "    <tr>\n",
       "      <th>2</th>\n",
       "      <td>60</td>\n",
       "      <td>55</td>\n",
       "      <td>44</td>\n",
       "      <td>23.004459</td>\n",
       "      <td>82.320763</td>\n",
       "      <td>7.840207</td>\n",
       "      <td>263.964248</td>\n",
       "      <td>rice</td>\n",
       "    </tr>\n",
       "    <tr>\n",
       "      <th>3</th>\n",
       "      <td>74</td>\n",
       "      <td>35</td>\n",
       "      <td>40</td>\n",
       "      <td>26.491096</td>\n",
       "      <td>80.158363</td>\n",
       "      <td>6.980401</td>\n",
       "      <td>242.864034</td>\n",
       "      <td>rice</td>\n",
       "    </tr>\n",
       "    <tr>\n",
       "      <th>4</th>\n",
       "      <td>78</td>\n",
       "      <td>42</td>\n",
       "      <td>42</td>\n",
       "      <td>20.130175</td>\n",
       "      <td>81.604873</td>\n",
       "      <td>7.628473</td>\n",
       "      <td>262.717340</td>\n",
       "      <td>rice</td>\n",
       "    </tr>\n",
       "    <tr>\n",
       "      <th>...</th>\n",
       "      <td>...</td>\n",
       "      <td>...</td>\n",
       "      <td>...</td>\n",
       "      <td>...</td>\n",
       "      <td>...</td>\n",
       "      <td>...</td>\n",
       "      <td>...</td>\n",
       "      <td>...</td>\n",
       "    </tr>\n",
       "    <tr>\n",
       "      <th>2195</th>\n",
       "      <td>107</td>\n",
       "      <td>34</td>\n",
       "      <td>32</td>\n",
       "      <td>26.774637</td>\n",
       "      <td>66.413269</td>\n",
       "      <td>6.780064</td>\n",
       "      <td>177.774507</td>\n",
       "      <td>coffee</td>\n",
       "    </tr>\n",
       "    <tr>\n",
       "      <th>2196</th>\n",
       "      <td>99</td>\n",
       "      <td>15</td>\n",
       "      <td>27</td>\n",
       "      <td>27.417112</td>\n",
       "      <td>56.636362</td>\n",
       "      <td>6.086922</td>\n",
       "      <td>127.924610</td>\n",
       "      <td>coffee</td>\n",
       "    </tr>\n",
       "    <tr>\n",
       "      <th>2197</th>\n",
       "      <td>118</td>\n",
       "      <td>33</td>\n",
       "      <td>30</td>\n",
       "      <td>24.131797</td>\n",
       "      <td>67.225123</td>\n",
       "      <td>6.362608</td>\n",
       "      <td>173.322839</td>\n",
       "      <td>coffee</td>\n",
       "    </tr>\n",
       "    <tr>\n",
       "      <th>2198</th>\n",
       "      <td>117</td>\n",
       "      <td>32</td>\n",
       "      <td>34</td>\n",
       "      <td>26.272418</td>\n",
       "      <td>52.127394</td>\n",
       "      <td>6.758793</td>\n",
       "      <td>127.175293</td>\n",
       "      <td>coffee</td>\n",
       "    </tr>\n",
       "    <tr>\n",
       "      <th>2199</th>\n",
       "      <td>104</td>\n",
       "      <td>18</td>\n",
       "      <td>30</td>\n",
       "      <td>23.603016</td>\n",
       "      <td>60.396475</td>\n",
       "      <td>6.779833</td>\n",
       "      <td>140.937041</td>\n",
       "      <td>coffee</td>\n",
       "    </tr>\n",
       "  </tbody>\n",
       "</table>\n",
       "<p>2200 rows × 8 columns</p>\n",
       "</div>"
      ],
      "text/plain": [
       "        N   P   K  temperature   humidity        ph    rainfall   label\n",
       "0      90  42  43    20.879744  82.002744  6.502985  202.935536    rice\n",
       "1      85  58  41    21.770462  80.319644  7.038096  226.655537    rice\n",
       "2      60  55  44    23.004459  82.320763  7.840207  263.964248    rice\n",
       "3      74  35  40    26.491096  80.158363  6.980401  242.864034    rice\n",
       "4      78  42  42    20.130175  81.604873  7.628473  262.717340    rice\n",
       "...   ...  ..  ..          ...        ...       ...         ...     ...\n",
       "2195  107  34  32    26.774637  66.413269  6.780064  177.774507  coffee\n",
       "2196   99  15  27    27.417112  56.636362  6.086922  127.924610  coffee\n",
       "2197  118  33  30    24.131797  67.225123  6.362608  173.322839  coffee\n",
       "2198  117  32  34    26.272418  52.127394  6.758793  127.175293  coffee\n",
       "2199  104  18  30    23.603016  60.396475  6.779833  140.937041  coffee\n",
       "\n",
       "[2200 rows x 8 columns]"
      ]
     },
     "execution_count": 31,
     "metadata": {},
     "output_type": "execute_result"
    }
   ],
   "source": [
    "df1 = pd.read_csv(\"https://raw.githubusercontent.com/Gladiator07/Harvestify/master/Data-processed/crop_recommendation.csv\")\n",
    "df1"
   ]
  },
  {
   "cell_type": "code",
   "execution_count": 32,
   "id": "sophisticated-cannon",
   "metadata": {},
   "outputs": [
    {
     "data": {
      "text/plain": [
       "(2200, 8)"
      ]
     },
     "execution_count": 32,
     "metadata": {},
     "output_type": "execute_result"
    }
   ],
   "source": [
    "df1.shape"
   ]
  },
  {
   "cell_type": "code",
   "execution_count": 33,
   "id": "endangered-selling",
   "metadata": {},
   "outputs": [
    {
     "data": {
      "text/html": [
       "<div>\n",
       "<style scoped>\n",
       "    .dataframe tbody tr th:only-of-type {\n",
       "        vertical-align: middle;\n",
       "    }\n",
       "\n",
       "    .dataframe tbody tr th {\n",
       "        vertical-align: top;\n",
       "    }\n",
       "\n",
       "    .dataframe thead th {\n",
       "        text-align: right;\n",
       "    }\n",
       "</style>\n",
       "<table border=\"1\" class=\"dataframe\">\n",
       "  <thead>\n",
       "    <tr style=\"text-align: right;\">\n",
       "      <th></th>\n",
       "      <th>N</th>\n",
       "      <th>P</th>\n",
       "      <th>K</th>\n",
       "      <th>temperature</th>\n",
       "      <th>humidity</th>\n",
       "      <th>ph</th>\n",
       "      <th>rainfall</th>\n",
       "      <th>label</th>\n",
       "    </tr>\n",
       "  </thead>\n",
       "  <tbody>\n",
       "    <tr>\n",
       "      <th>0</th>\n",
       "      <td>93.0</td>\n",
       "      <td>57.0</td>\n",
       "      <td>93.0</td>\n",
       "      <td>22.368493</td>\n",
       "      <td>74.991838</td>\n",
       "      <td>6.410000</td>\n",
       "      <td>509.587238</td>\n",
       "      <td>tomato</td>\n",
       "    </tr>\n",
       "    <tr>\n",
       "      <th>1</th>\n",
       "      <td>101.0</td>\n",
       "      <td>51.0</td>\n",
       "      <td>95.0</td>\n",
       "      <td>22.357459</td>\n",
       "      <td>66.849420</td>\n",
       "      <td>6.400000</td>\n",
       "      <td>476.082614</td>\n",
       "      <td>tomato</td>\n",
       "    </tr>\n",
       "    <tr>\n",
       "      <th>2</th>\n",
       "      <td>98.0</td>\n",
       "      <td>47.0</td>\n",
       "      <td>95.0</td>\n",
       "      <td>23.357459</td>\n",
       "      <td>69.849420</td>\n",
       "      <td>6.140000</td>\n",
       "      <td>479.082614</td>\n",
       "      <td>tomato</td>\n",
       "    </tr>\n",
       "    <tr>\n",
       "      <th>3</th>\n",
       "      <td>96.0</td>\n",
       "      <td>35.0</td>\n",
       "      <td>88.0</td>\n",
       "      <td>23.104461</td>\n",
       "      <td>67.259138</td>\n",
       "      <td>6.270000</td>\n",
       "      <td>598.946372</td>\n",
       "      <td>tomato</td>\n",
       "    </tr>\n",
       "    <tr>\n",
       "      <th>4</th>\n",
       "      <td>118.0</td>\n",
       "      <td>59.0</td>\n",
       "      <td>87.0</td>\n",
       "      <td>22.055396</td>\n",
       "      <td>66.594238</td>\n",
       "      <td>6.140000</td>\n",
       "      <td>434.396957</td>\n",
       "      <td>tomato</td>\n",
       "    </tr>\n",
       "    <tr>\n",
       "      <th>...</th>\n",
       "      <td>...</td>\n",
       "      <td>...</td>\n",
       "      <td>...</td>\n",
       "      <td>...</td>\n",
       "      <td>...</td>\n",
       "      <td>...</td>\n",
       "      <td>...</td>\n",
       "      <td>...</td>\n",
       "    </tr>\n",
       "    <tr>\n",
       "      <th>2195</th>\n",
       "      <td>107.0</td>\n",
       "      <td>34.0</td>\n",
       "      <td>32.0</td>\n",
       "      <td>26.774637</td>\n",
       "      <td>66.413269</td>\n",
       "      <td>6.780064</td>\n",
       "      <td>177.774507</td>\n",
       "      <td>coffee</td>\n",
       "    </tr>\n",
       "    <tr>\n",
       "      <th>2196</th>\n",
       "      <td>99.0</td>\n",
       "      <td>15.0</td>\n",
       "      <td>27.0</td>\n",
       "      <td>27.417112</td>\n",
       "      <td>56.636362</td>\n",
       "      <td>6.086922</td>\n",
       "      <td>127.924610</td>\n",
       "      <td>coffee</td>\n",
       "    </tr>\n",
       "    <tr>\n",
       "      <th>2197</th>\n",
       "      <td>118.0</td>\n",
       "      <td>33.0</td>\n",
       "      <td>30.0</td>\n",
       "      <td>24.131797</td>\n",
       "      <td>67.225123</td>\n",
       "      <td>6.362608</td>\n",
       "      <td>173.322839</td>\n",
       "      <td>coffee</td>\n",
       "    </tr>\n",
       "    <tr>\n",
       "      <th>2198</th>\n",
       "      <td>117.0</td>\n",
       "      <td>32.0</td>\n",
       "      <td>34.0</td>\n",
       "      <td>26.272418</td>\n",
       "      <td>52.127394</td>\n",
       "      <td>6.758793</td>\n",
       "      <td>127.175293</td>\n",
       "      <td>coffee</td>\n",
       "    </tr>\n",
       "    <tr>\n",
       "      <th>2199</th>\n",
       "      <td>104.0</td>\n",
       "      <td>18.0</td>\n",
       "      <td>30.0</td>\n",
       "      <td>23.603016</td>\n",
       "      <td>60.396475</td>\n",
       "      <td>6.779833</td>\n",
       "      <td>140.937041</td>\n",
       "      <td>coffee</td>\n",
       "    </tr>\n",
       "  </tbody>\n",
       "</table>\n",
       "<p>5500 rows × 8 columns</p>\n",
       "</div>"
      ],
      "text/plain": [
       "          N     P     K  temperature   humidity        ph    rainfall   label\n",
       "0      93.0  57.0  93.0    22.368493  74.991838  6.410000  509.587238  tomato\n",
       "1     101.0  51.0  95.0    22.357459  66.849420  6.400000  476.082614  tomato\n",
       "2      98.0  47.0  95.0    23.357459  69.849420  6.140000  479.082614  tomato\n",
       "3      96.0  35.0  88.0    23.104461  67.259138  6.270000  598.946372  tomato\n",
       "4     118.0  59.0  87.0    22.055396  66.594238  6.140000  434.396957  tomato\n",
       "...     ...   ...   ...          ...        ...       ...         ...     ...\n",
       "2195  107.0  34.0  32.0    26.774637  66.413269  6.780064  177.774507  coffee\n",
       "2196   99.0  15.0  27.0    27.417112  56.636362  6.086922  127.924610  coffee\n",
       "2197  118.0  33.0  30.0    24.131797  67.225123  6.362608  173.322839  coffee\n",
       "2198  117.0  32.0  34.0    26.272418  52.127394  6.758793  127.175293  coffee\n",
       "2199  104.0  18.0  30.0    23.603016  60.396475  6.779833  140.937041  coffee\n",
       "\n",
       "[5500 rows x 8 columns]"
      ]
     },
     "execution_count": 33,
     "metadata": {},
     "output_type": "execute_result"
    }
   ],
   "source": [
    "final_df = pd.concat([df, df1])\n",
    "final_df"
   ]
  },
  {
   "cell_type": "code",
   "execution_count": 46,
   "id": "collective-cruise",
   "metadata": {},
   "outputs": [],
   "source": [
    "final_df.to_csv(\"C:/Users/User/Desktop/research/Agriculture/DATA/TEMP-FINAL/final_crop_recommendation.csv\",index=False)\n"
   ]
  },
  {
   "cell_type": "code",
   "execution_count": 1,
   "id": "marked-organic",
   "metadata": {},
   "outputs": [
    {
     "data": {
      "application/javascript": [
       "\n",
       "        if (window._pyforest_update_imports_cell) { window._pyforest_update_imports_cell('import pandas as pd'); }\n",
       "    "
      ],
      "text/plain": [
       "<IPython.core.display.Javascript object>"
      ]
     },
     "metadata": {},
     "output_type": "display_data"
    },
    {
     "data": {
      "text/html": [
       "<div>\n",
       "<style scoped>\n",
       "    .dataframe tbody tr th:only-of-type {\n",
       "        vertical-align: middle;\n",
       "    }\n",
       "\n",
       "    .dataframe tbody tr th {\n",
       "        vertical-align: top;\n",
       "    }\n",
       "\n",
       "    .dataframe thead th {\n",
       "        text-align: right;\n",
       "    }\n",
       "</style>\n",
       "<table border=\"1\" class=\"dataframe\">\n",
       "  <thead>\n",
       "    <tr style=\"text-align: right;\">\n",
       "      <th></th>\n",
       "      <th>N</th>\n",
       "      <th>P</th>\n",
       "      <th>K</th>\n",
       "      <th>temperature</th>\n",
       "      <th>humidity</th>\n",
       "      <th>ph</th>\n",
       "      <th>rainfall</th>\n",
       "      <th>label</th>\n",
       "    </tr>\n",
       "  </thead>\n",
       "  <tbody>\n",
       "    <tr>\n",
       "      <th>0</th>\n",
       "      <td>93</td>\n",
       "      <td>57</td>\n",
       "      <td>93</td>\n",
       "      <td>22.368493</td>\n",
       "      <td>74.991838</td>\n",
       "      <td>6.410000</td>\n",
       "      <td>509.587238</td>\n",
       "      <td>tomato</td>\n",
       "    </tr>\n",
       "    <tr>\n",
       "      <th>1</th>\n",
       "      <td>101</td>\n",
       "      <td>51</td>\n",
       "      <td>95</td>\n",
       "      <td>22.357459</td>\n",
       "      <td>66.849420</td>\n",
       "      <td>6.400000</td>\n",
       "      <td>476.082614</td>\n",
       "      <td>tomato</td>\n",
       "    </tr>\n",
       "    <tr>\n",
       "      <th>2</th>\n",
       "      <td>98</td>\n",
       "      <td>47</td>\n",
       "      <td>95</td>\n",
       "      <td>23.357459</td>\n",
       "      <td>69.849420</td>\n",
       "      <td>6.140000</td>\n",
       "      <td>479.082614</td>\n",
       "      <td>tomato</td>\n",
       "    </tr>\n",
       "    <tr>\n",
       "      <th>3</th>\n",
       "      <td>96</td>\n",
       "      <td>35</td>\n",
       "      <td>88</td>\n",
       "      <td>23.104461</td>\n",
       "      <td>67.259138</td>\n",
       "      <td>6.270000</td>\n",
       "      <td>598.946372</td>\n",
       "      <td>tomato</td>\n",
       "    </tr>\n",
       "    <tr>\n",
       "      <th>4</th>\n",
       "      <td>118</td>\n",
       "      <td>59</td>\n",
       "      <td>87</td>\n",
       "      <td>22.055396</td>\n",
       "      <td>66.594238</td>\n",
       "      <td>6.140000</td>\n",
       "      <td>434.396957</td>\n",
       "      <td>tomato</td>\n",
       "    </tr>\n",
       "    <tr>\n",
       "      <th>...</th>\n",
       "      <td>...</td>\n",
       "      <td>...</td>\n",
       "      <td>...</td>\n",
       "      <td>...</td>\n",
       "      <td>...</td>\n",
       "      <td>...</td>\n",
       "      <td>...</td>\n",
       "      <td>...</td>\n",
       "    </tr>\n",
       "    <tr>\n",
       "      <th>5495</th>\n",
       "      <td>107</td>\n",
       "      <td>34</td>\n",
       "      <td>32</td>\n",
       "      <td>26.774637</td>\n",
       "      <td>66.413269</td>\n",
       "      <td>6.780064</td>\n",
       "      <td>177.774507</td>\n",
       "      <td>coffee</td>\n",
       "    </tr>\n",
       "    <tr>\n",
       "      <th>5496</th>\n",
       "      <td>99</td>\n",
       "      <td>15</td>\n",
       "      <td>27</td>\n",
       "      <td>27.417112</td>\n",
       "      <td>56.636362</td>\n",
       "      <td>6.086922</td>\n",
       "      <td>127.924610</td>\n",
       "      <td>coffee</td>\n",
       "    </tr>\n",
       "    <tr>\n",
       "      <th>5497</th>\n",
       "      <td>118</td>\n",
       "      <td>33</td>\n",
       "      <td>30</td>\n",
       "      <td>24.131797</td>\n",
       "      <td>67.225123</td>\n",
       "      <td>6.362608</td>\n",
       "      <td>173.322839</td>\n",
       "      <td>coffee</td>\n",
       "    </tr>\n",
       "    <tr>\n",
       "      <th>5498</th>\n",
       "      <td>117</td>\n",
       "      <td>32</td>\n",
       "      <td>34</td>\n",
       "      <td>26.272418</td>\n",
       "      <td>52.127394</td>\n",
       "      <td>6.758793</td>\n",
       "      <td>127.175293</td>\n",
       "      <td>coffee</td>\n",
       "    </tr>\n",
       "    <tr>\n",
       "      <th>5499</th>\n",
       "      <td>104</td>\n",
       "      <td>18</td>\n",
       "      <td>30</td>\n",
       "      <td>23.603016</td>\n",
       "      <td>60.396475</td>\n",
       "      <td>6.779833</td>\n",
       "      <td>140.937041</td>\n",
       "      <td>coffee</td>\n",
       "    </tr>\n",
       "  </tbody>\n",
       "</table>\n",
       "<p>5500 rows × 8 columns</p>\n",
       "</div>"
      ],
      "text/plain": [
       "        N   P   K  temperature   humidity        ph    rainfall   label\n",
       "0      93  57  93    22.368493  74.991838  6.410000  509.587238  tomato\n",
       "1     101  51  95    22.357459  66.849420  6.400000  476.082614  tomato\n",
       "2      98  47  95    23.357459  69.849420  6.140000  479.082614  tomato\n",
       "3      96  35  88    23.104461  67.259138  6.270000  598.946372  tomato\n",
       "4     118  59  87    22.055396  66.594238  6.140000  434.396957  tomato\n",
       "...   ...  ..  ..          ...        ...       ...         ...     ...\n",
       "5495  107  34  32    26.774637  66.413269  6.780064  177.774507  coffee\n",
       "5496   99  15  27    27.417112  56.636362  6.086922  127.924610  coffee\n",
       "5497  118  33  30    24.131797  67.225123  6.362608  173.322839  coffee\n",
       "5498  117  32  34    26.272418  52.127394  6.758793  127.175293  coffee\n",
       "5499  104  18  30    23.603016  60.396475  6.779833  140.937041  coffee\n",
       "\n",
       "[5500 rows x 8 columns]"
      ]
     },
     "execution_count": 1,
     "metadata": {},
     "output_type": "execute_result"
    }
   ],
   "source": [
    "df_final = pd.read_csv(\"C:/Users/User/Desktop/research/Agriculture/DATA/TEMP-FINAL/final_crop_recommendation.csv\")\n",
    "df_final"
   ]
  },
  {
   "cell_type": "code",
   "execution_count": 2,
   "id": "municipal-sellers",
   "metadata": {},
   "outputs": [
    {
     "data": {
      "text/plain": [
       "array(['tomato', 'Jowar(Sorghum)', 'Sunflower', 'Barley(JAV)', 'Soyabean',\n",
       "       'Chickoo', 'Guava', 'Brinjal', 'Carrot', 'Ragi( naachnnii)',\n",
       "       'Capsicum', 'Cabbage', 'Cauliflower', 'Cucumber', 'Drumstick',\n",
       "       'Onion', 'Potato', 'Pumpkin', 'Radish', 'Sweet Potato', 'Spinach',\n",
       "       'Pineapple', 'Custard apple', 'Ginger', 'Turmeric',\n",
       "       'Mustard seeds', 'Green Peas', 'Chickpeas(Channa)',\n",
       "       'Coriander seeds', 'Beetroot', 'Chili', 'Olive',\n",
       "       'Gooseberry(Amla)', 'rice', 'maize', 'chickpea', 'kidneybeans',\n",
       "       'pigeonpeas', 'mothbeans', 'mungbean', 'blackgram', 'lentil',\n",
       "       'pomegranate', 'banana', 'mango', 'grapes', 'watermelon',\n",
       "       'muskmelon', 'apple', 'orange', 'papaya', 'coconut', 'cotton',\n",
       "       'jute', 'coffee'], dtype=object)"
      ]
     },
     "execution_count": 2,
     "metadata": {},
     "output_type": "execute_result"
    }
   ],
   "source": [
    "df_final.label.unique()"
   ]
  },
  {
   "cell_type": "code",
   "execution_count": 9,
   "id": "taken-thursday",
   "metadata": {},
   "outputs": [
    {
     "data": {
      "application/javascript": [
       "\n",
       "        if (window._pyforest_update_imports_cell) { window._pyforest_update_imports_cell('import pandas as pd\\nimport matplotlib.pyplot as plt'); }\n",
       "    "
      ],
      "text/plain": [
       "<IPython.core.display.Javascript object>"
      ]
     },
     "metadata": {},
     "output_type": "display_data"
    },
    {
     "data": {
      "application/javascript": [
       "\n",
       "        if (window._pyforest_update_imports_cell) { window._pyforest_update_imports_cell('import pandas as pd\\nimport matplotlib.pyplot as plt'); }\n",
       "    "
      ],
      "text/plain": [
       "<IPython.core.display.Javascript object>"
      ]
     },
     "metadata": {},
     "output_type": "display_data"
    },
    {
     "data": {
      "image/png": "[encoded data removed]",
      "text/plain": [
       "<Figure size 936x504 with 2 Axes>"
      ]
     },
     "metadata": {
      "needs_background": "light"
     },
     "output_type": "display_data"
    }
   ],
   "source": [
    "import seaborn as sns\n",
    "corr = df_final.corr()\n",
    "sns.set_context(\"notebook\", font_scale=1.0, rc={\"lines.linewidth\": 2.5})\n",
    "plt.figure(figsize=(13,7))\n",
    "a = sns.heatmap(corr, annot=True, fmt='.2f')\n",
    "rotx = a.set_xticklabels(a.get_xticklabels(), rotation=90)\n",
    "roty = a.set_yticklabels(a.get_yticklabels(), rotation=30)\n",
    "plt.savefig(\"corr.png\")"
   ]
  },
  {
   "cell_type": "code",
   "execution_count": 6,
   "id": "magnetic-power",
   "metadata": {},
   "outputs": [
    {
     "data": {
      "text/plain": [
       "0       tomato\n",
       "1       tomato\n",
       "2       tomato\n",
       "3       tomato\n",
       "4       tomato\n",
       "         ...  \n",
       "5495    coffee\n",
       "5496    coffee\n",
       "5497    coffee\n",
       "5498    coffee\n",
       "5499    coffee\n",
       "Name: label, Length: 5500, dtype: object"
      ]
     },
     "execution_count": 6,
     "metadata": {},
     "output_type": "execute_result"
    }
   ],
   "source": [
    "df_final.describe()"
   ]
  },
  {
   "cell_type": "code",
   "execution_count": 8,
   "id": "cellular-thermal",
   "metadata": {},
   "outputs": [
    {
     "data": {
      "text/plain": [
       "array([53, 18, 29,  0, 27,  7, 17,  2,  5, 26,  4,  3,  6, 11, 13, 21, 23,\n",
       "       24, 25, 30, 28, 22, 12, 14, 31, 19, 16,  8, 10,  1,  9, 20, 15, 52,\n",
       "       43, 35, 41, 50, 45, 46, 34, 42, 51, 33, 44, 39, 54, 47, 32, 48, 49,\n",
       "       36, 38, 40, 37])"
      ]
     },
     "execution_count": 8,
     "metadata": {},
     "output_type": "execute_result"
    }
   ],
   "source": [
    "# Import label encoder\n",
    "from sklearn import preprocessing\n",
    "  \n",
    "# label_encoder object knows how to understand word labels.\n",
    "label_encoder = preprocessing.LabelEncoder()\n",
    "  \n",
    "# Encode labels in column 'species'.\n",
    "df_final['label']= label_encoder.fit_transform(df_final['label'])\n",
    "  \n",
    "df_final['label'].unique()"
   ]
  },
  {
   "cell_type": "code",
   "execution_count": null,
   "id": "every-subcommittee",
   "metadata": {},
   "outputs": [],
   "source": []
  }
 ],
 "metadata": {
  "kernelspec": {
   "display_name": "Python 3",
   "language": "python",
   "name": "python3"
  },
  "language_info": {
   "codemirror_mode": {
    "name": "ipython",
    "version": 3
   },
   "file_extension": ".py",
   "mimetype": "text/x-python",
   "name": "python",
   "nbconvert_exporter": "python",
   "pygments_lexer": "ipython3",
   "version": "3.8.7"
  }
 },
 "nbformat": 4,
 "nbformat_minor": 5
}
