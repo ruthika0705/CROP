{
 "cells": [
  {
   "cell_type": "code",
   "execution_count": 1,
   "id": "hindu-distributor",
   "metadata": {},
   "outputs": [],
   "source": [
    "# Importing libraries\n",
    "\n",
    "from __future__ import print_function\n",
    "import pandas as pd\n",
    "import numpy as np\n",
    "import matplotlib.pyplot as plt\n",
    "import seaborn as sns\n",
    "from sklearn.metrics import classification_report\n",
    "from sklearn import metrics\n",
    "from sklearn import tree\n",
    "import warnings\n",
    "warnings.filterwarnings('ignore')"
   ]
  },
  {
   "cell_type": "code",
   "execution_count": 2,
   "id": "spectacular-promise",
   "metadata": {},
   "outputs": [
    {
     "data": {
      "text/html": [
       "<div>\n",
       "<style scoped>\n",
       "    .dataframe tbody tr th:only-of-type {\n",
       "        vertical-align: middle;\n",
       "    }\n",
       "\n",
       "    .dataframe tbody tr th {\n",
       "        vertical-align: top;\n",
       "    }\n",
       "\n",
       "    .dataframe thead th {\n",
       "        text-align: right;\n",
       "    }\n",
       "</style>\n",
       "<table border=\"1\" class=\"dataframe\">\n",
       "  <thead>\n",
       "    <tr style=\"text-align: right;\">\n",
       "      <th></th>\n",
       "      <th>N</th>\n",
       "      <th>P</th>\n",
       "      <th>K</th>\n",
       "      <th>temperature</th>\n",
       "      <th>humidity</th>\n",
       "      <th>ph</th>\n",
       "      <th>rainfall</th>\n",
       "      <th>label</th>\n",
       "    </tr>\n",
       "  </thead>\n",
       "  <tbody>\n",
       "    <tr>\n",
       "      <th>0</th>\n",
       "      <td>93</td>\n",
       "      <td>57</td>\n",
       "      <td>93</td>\n",
       "      <td>22.368493</td>\n",
       "      <td>74.991838</td>\n",
       "      <td>6.410000</td>\n",
       "      <td>509.587238</td>\n",
       "      <td>tomato</td>\n",
       "    </tr>\n",
       "    <tr>\n",
       "      <th>1</th>\n",
       "      <td>101</td>\n",
       "      <td>51</td>\n",
       "      <td>95</td>\n",
       "      <td>22.357459</td>\n",
       "      <td>66.849420</td>\n",
       "      <td>6.400000</td>\n",
       "      <td>476.082614</td>\n",
       "      <td>tomato</td>\n",
       "    </tr>\n",
       "    <tr>\n",
       "      <th>2</th>\n",
       "      <td>98</td>\n",
       "      <td>47</td>\n",
       "      <td>95</td>\n",
       "      <td>23.357459</td>\n",
       "      <td>69.849420</td>\n",
       "      <td>6.140000</td>\n",
       "      <td>479.082614</td>\n",
       "      <td>tomato</td>\n",
       "    </tr>\n",
       "    <tr>\n",
       "      <th>3</th>\n",
       "      <td>96</td>\n",
       "      <td>35</td>\n",
       "      <td>88</td>\n",
       "      <td>23.104461</td>\n",
       "      <td>67.259138</td>\n",
       "      <td>6.270000</td>\n",
       "      <td>598.946372</td>\n",
       "      <td>tomato</td>\n",
       "    </tr>\n",
       "    <tr>\n",
       "      <th>4</th>\n",
       "      <td>118</td>\n",
       "      <td>59</td>\n",
       "      <td>87</td>\n",
       "      <td>22.055396</td>\n",
       "      <td>66.594238</td>\n",
       "      <td>6.140000</td>\n",
       "      <td>434.396957</td>\n",
       "      <td>tomato</td>\n",
       "    </tr>\n",
       "    <tr>\n",
       "      <th>...</th>\n",
       "      <td>...</td>\n",
       "      <td>...</td>\n",
       "      <td>...</td>\n",
       "      <td>...</td>\n",
       "      <td>...</td>\n",
       "      <td>...</td>\n",
       "      <td>...</td>\n",
       "      <td>...</td>\n",
       "    </tr>\n",
       "    <tr>\n",
       "      <th>5495</th>\n",
       "      <td>107</td>\n",
       "      <td>34</td>\n",
       "      <td>32</td>\n",
       "      <td>26.774637</td>\n",
       "      <td>66.413269</td>\n",
       "      <td>6.780064</td>\n",
       "      <td>177.774507</td>\n",
       "      <td>coffee</td>\n",
       "    </tr>\n",
       "    <tr>\n",
       "      <th>5496</th>\n",
       "      <td>99</td>\n",
       "      <td>15</td>\n",
       "      <td>27</td>\n",
       "      <td>27.417112</td>\n",
       "      <td>56.636362</td>\n",
       "      <td>6.086922</td>\n",
       "      <td>127.924610</td>\n",
       "      <td>coffee</td>\n",
       "    </tr>\n",
       "    <tr>\n",
       "      <th>5497</th>\n",
       "      <td>118</td>\n",
       "      <td>33</td>\n",
       "      <td>30</td>\n",
       "      <td>24.131797</td>\n",
       "      <td>67.225123</td>\n",
       "      <td>6.362608</td>\n",
       "      <td>173.322839</td>\n",
       "      <td>coffee</td>\n",
       "    </tr>\n",
       "    <tr>\n",
       "      <th>5498</th>\n",
       "      <td>117</td>\n",
       "      <td>32</td>\n",
       "      <td>34</td>\n",
       "      <td>26.272418</td>\n",
       "      <td>52.127394</td>\n",
       "      <td>6.758793</td>\n",
       "      <td>127.175293</td>\n",
       "      <td>coffee</td>\n",
       "    </tr>\n",
       "    <tr>\n",
       "      <th>5499</th>\n",
       "      <td>104</td>\n",
       "      <td>18</td>\n",
       "      <td>30</td>\n",
       "      <td>23.603016</td>\n",
       "      <td>60.396475</td>\n",
       "      <td>6.779833</td>\n",
       "      <td>140.937041</td>\n",
       "      <td>coffee</td>\n",
       "    </tr>\n",
       "  </tbody>\n",
       "</table>\n",
       "<p>5500 rows × 8 columns</p>\n",
       "</div>"
      ],
      "text/plain": [
       "        N   P   K  temperature   humidity        ph    rainfall   label\n",
       "0      93  57  93    22.368493  74.991838  6.410000  509.587238  tomato\n",
       "1     101  51  95    22.357459  66.849420  6.400000  476.082614  tomato\n",
       "2      98  47  95    23.357459  69.849420  6.140000  479.082614  tomato\n",
       "3      96  35  88    23.104461  67.259138  6.270000  598.946372  tomato\n",
       "4     118  59  87    22.055396  66.594238  6.140000  434.396957  tomato\n",
       "...   ...  ..  ..          ...        ...       ...         ...     ...\n",
       "5495  107  34  32    26.774637  66.413269  6.780064  177.774507  coffee\n",
       "5496   99  15  27    27.417112  56.636362  6.086922  127.924610  coffee\n",
       "5497  118  33  30    24.131797  67.225123  6.362608  173.322839  coffee\n",
       "5498  117  32  34    26.272418  52.127394  6.758793  127.175293  coffee\n",
       "5499  104  18  30    23.603016  60.396475  6.779833  140.937041  coffee\n",
       "\n",
       "[5500 rows x 8 columns]"
      ]
     },
     "execution_count": 2,
     "metadata": {},
     "output_type": "execute_result"
    }
   ],
   "source": [
    "df = pd.read_csv(\"C:/Users/User/Desktop/research/Agriculture/DATA/TEMP-FINAL/final_crop_recommendation.csv\")\n",
    "df"
   ]
  },
  {
   "cell_type": "code",
   "execution_count": 3,
   "id": "introductory-flash",
   "metadata": {},
   "outputs": [
    {
     "data": {
      "text/html": [
       "<div>\n",
       "<style scoped>\n",
       "    .dataframe tbody tr th:only-of-type {\n",
       "        vertical-align: middle;\n",
       "    }\n",
       "\n",
       "    .dataframe tbody tr th {\n",
       "        vertical-align: top;\n",
       "    }\n",
       "\n",
       "    .dataframe thead th {\n",
       "        text-align: right;\n",
       "    }\n",
       "</style>\n",
       "<table border=\"1\" class=\"dataframe\">\n",
       "  <thead>\n",
       "    <tr style=\"text-align: right;\">\n",
       "      <th></th>\n",
       "      <th>N</th>\n",
       "      <th>P</th>\n",
       "      <th>K</th>\n",
       "      <th>temperature</th>\n",
       "      <th>humidity</th>\n",
       "      <th>ph</th>\n",
       "      <th>rainfall</th>\n",
       "      <th>label</th>\n",
       "    </tr>\n",
       "  </thead>\n",
       "  <tbody>\n",
       "    <tr>\n",
       "      <th>0</th>\n",
       "      <td>93</td>\n",
       "      <td>57</td>\n",
       "      <td>93</td>\n",
       "      <td>22.368493</td>\n",
       "      <td>74.991838</td>\n",
       "      <td>6.41</td>\n",
       "      <td>509.587238</td>\n",
       "      <td>tomato</td>\n",
       "    </tr>\n",
       "    <tr>\n",
       "      <th>1</th>\n",
       "      <td>101</td>\n",
       "      <td>51</td>\n",
       "      <td>95</td>\n",
       "      <td>22.357459</td>\n",
       "      <td>66.849420</td>\n",
       "      <td>6.40</td>\n",
       "      <td>476.082614</td>\n",
       "      <td>tomato</td>\n",
       "    </tr>\n",
       "    <tr>\n",
       "      <th>2</th>\n",
       "      <td>98</td>\n",
       "      <td>47</td>\n",
       "      <td>95</td>\n",
       "      <td>23.357459</td>\n",
       "      <td>69.849420</td>\n",
       "      <td>6.14</td>\n",
       "      <td>479.082614</td>\n",
       "      <td>tomato</td>\n",
       "    </tr>\n",
       "    <tr>\n",
       "      <th>3</th>\n",
       "      <td>96</td>\n",
       "      <td>35</td>\n",
       "      <td>88</td>\n",
       "      <td>23.104461</td>\n",
       "      <td>67.259138</td>\n",
       "      <td>6.27</td>\n",
       "      <td>598.946372</td>\n",
       "      <td>tomato</td>\n",
       "    </tr>\n",
       "    <tr>\n",
       "      <th>4</th>\n",
       "      <td>118</td>\n",
       "      <td>59</td>\n",
       "      <td>87</td>\n",
       "      <td>22.055396</td>\n",
       "      <td>66.594238</td>\n",
       "      <td>6.14</td>\n",
       "      <td>434.396957</td>\n",
       "      <td>tomato</td>\n",
       "    </tr>\n",
       "  </tbody>\n",
       "</table>\n",
       "</div>"
      ],
      "text/plain": [
       "     N   P   K  temperature   humidity    ph    rainfall   label\n",
       "0   93  57  93    22.368493  74.991838  6.41  509.587238  tomato\n",
       "1  101  51  95    22.357459  66.849420  6.40  476.082614  tomato\n",
       "2   98  47  95    23.357459  69.849420  6.14  479.082614  tomato\n",
       "3   96  35  88    23.104461  67.259138  6.27  598.946372  tomato\n",
       "4  118  59  87    22.055396  66.594238  6.14  434.396957  tomato"
      ]
     },
     "execution_count": 3,
     "metadata": {},
     "output_type": "execute_result"
    }
   ],
   "source": [
    "df.head()"
   ]
  },
  {
   "cell_type": "code",
   "execution_count": 4,
   "id": "round-veteran",
   "metadata": {},
   "outputs": [
    {
     "data": {
      "text/html": [
       "<div>\n",
       "<style scoped>\n",
       "    .dataframe tbody tr th:only-of-type {\n",
       "        vertical-align: middle;\n",
       "    }\n",
       "\n",
       "    .dataframe tbody tr th {\n",
       "        vertical-align: top;\n",
       "    }\n",
       "\n",
       "    .dataframe thead th {\n",
       "        text-align: right;\n",
       "    }\n",
       "</style>\n",
       "<table border=\"1\" class=\"dataframe\">\n",
       "  <thead>\n",
       "    <tr style=\"text-align: right;\">\n",
       "      <th></th>\n",
       "      <th>N</th>\n",
       "      <th>P</th>\n",
       "      <th>K</th>\n",
       "      <th>temperature</th>\n",
       "      <th>humidity</th>\n",
       "      <th>ph</th>\n",
       "      <th>rainfall</th>\n",
       "      <th>label</th>\n",
       "    </tr>\n",
       "  </thead>\n",
       "  <tbody>\n",
       "    <tr>\n",
       "      <th>5495</th>\n",
       "      <td>107</td>\n",
       "      <td>34</td>\n",
       "      <td>32</td>\n",
       "      <td>26.774637</td>\n",
       "      <td>66.413269</td>\n",
       "      <td>6.780064</td>\n",
       "      <td>177.774507</td>\n",
       "      <td>coffee</td>\n",
       "    </tr>\n",
       "    <tr>\n",
       "      <th>5496</th>\n",
       "      <td>99</td>\n",
       "      <td>15</td>\n",
       "      <td>27</td>\n",
       "      <td>27.417112</td>\n",
       "      <td>56.636362</td>\n",
       "      <td>6.086922</td>\n",
       "      <td>127.924610</td>\n",
       "      <td>coffee</td>\n",
       "    </tr>\n",
       "    <tr>\n",
       "      <th>5497</th>\n",
       "      <td>118</td>\n",
       "      <td>33</td>\n",
       "      <td>30</td>\n",
       "      <td>24.131797</td>\n",
       "      <td>67.225123</td>\n",
       "      <td>6.362608</td>\n",
       "      <td>173.322839</td>\n",
       "      <td>coffee</td>\n",
       "    </tr>\n",
       "    <tr>\n",
       "      <th>5498</th>\n",
       "      <td>117</td>\n",
       "      <td>32</td>\n",
       "      <td>34</td>\n",
       "      <td>26.272418</td>\n",
       "      <td>52.127394</td>\n",
       "      <td>6.758793</td>\n",
       "      <td>127.175293</td>\n",
       "      <td>coffee</td>\n",
       "    </tr>\n",
       "    <tr>\n",
       "      <th>5499</th>\n",
       "      <td>104</td>\n",
       "      <td>18</td>\n",
       "      <td>30</td>\n",
       "      <td>23.603016</td>\n",
       "      <td>60.396475</td>\n",
       "      <td>6.779833</td>\n",
       "      <td>140.937041</td>\n",
       "      <td>coffee</td>\n",
       "    </tr>\n",
       "  </tbody>\n",
       "</table>\n",
       "</div>"
      ],
      "text/plain": [
       "        N   P   K  temperature   humidity        ph    rainfall   label\n",
       "5495  107  34  32    26.774637  66.413269  6.780064  177.774507  coffee\n",
       "5496   99  15  27    27.417112  56.636362  6.086922  127.924610  coffee\n",
       "5497  118  33  30    24.131797  67.225123  6.362608  173.322839  coffee\n",
       "5498  117  32  34    26.272418  52.127394  6.758793  127.175293  coffee\n",
       "5499  104  18  30    23.603016  60.396475  6.779833  140.937041  coffee"
      ]
     },
     "execution_count": 4,
     "metadata": {},
     "output_type": "execute_result"
    }
   ],
   "source": [
    "df.tail()"
   ]
  },
  {
   "cell_type": "code",
   "execution_count": 5,
   "id": "casual-japanese",
   "metadata": {},
   "outputs": [
    {
     "data": {
      "text/plain": [
       "44000"
      ]
     },
     "execution_count": 5,
     "metadata": {},
     "output_type": "execute_result"
    }
   ],
   "source": [
    "df.size"
   ]
  },
  {
   "cell_type": "code",
   "execution_count": 6,
   "id": "environmental-colombia",
   "metadata": {},
   "outputs": [
    {
     "data": {
      "text/plain": [
       "(5500, 8)"
      ]
     },
     "execution_count": 6,
     "metadata": {},
     "output_type": "execute_result"
    }
   ],
   "source": [
    "df.shape"
   ]
  },
  {
   "cell_type": "code",
   "execution_count": 7,
   "id": "helpful-spectrum",
   "metadata": {},
   "outputs": [
    {
     "data": {
      "text/plain": [
       "Index(['N', 'P', 'K', 'temperature', 'humidity', 'ph', 'rainfall', 'label'], dtype='object')"
      ]
     },
     "execution_count": 7,
     "metadata": {},
     "output_type": "execute_result"
    }
   ],
   "source": [
    "df.columns"
   ]
  },
  {
   "cell_type": "code",
   "execution_count": 8,
   "id": "excess-jersey",
   "metadata": {},
   "outputs": [
    {
     "data": {
      "text/plain": [
       "array(['tomato', 'Jowar(Sorghum)', 'Sunflower', 'Barley(JAV)', 'Soyabean',\n",
       "       'Chickoo', 'Guava', 'Brinjal', 'Carrot', 'Ragi( naachnnii)',\n",
       "       'Capsicum', 'Cabbage', 'Cauliflower', 'Cucumber', 'Drumstick',\n",
       "       'Onion', 'Potato', 'Pumpkin', 'Radish', 'Sweet Potato', 'Spinach',\n",
       "       'Pineapple', 'Custard apple', 'Ginger', 'Turmeric',\n",
       "       'Mustard seeds', 'Green Peas', 'Chickpeas(Channa)',\n",
       "       'Coriander seeds', 'Beetroot', 'Chili', 'Olive',\n",
       "       'Gooseberry(Amla)', 'rice', 'maize', 'chickpea', 'kidneybeans',\n",
       "       'pigeonpeas', 'mothbeans', 'mungbean', 'blackgram', 'lentil',\n",
       "       'pomegranate', 'banana', 'mango', 'grapes', 'watermelon',\n",
       "       'muskmelon', 'apple', 'orange', 'papaya', 'coconut', 'cotton',\n",
       "       'jute', 'coffee'], dtype=object)"
      ]
     },
     "execution_count": 8,
     "metadata": {},
     "output_type": "execute_result"
    }
   ],
   "source": [
    "df['label'].unique()"
   ]
  },
  {
   "cell_type": "code",
   "execution_count": 9,
   "id": "defensive-arena",
   "metadata": {},
   "outputs": [
    {
     "data": {
      "text/plain": [
       "N                int64\n",
       "P                int64\n",
       "K                int64\n",
       "temperature    float64\n",
       "humidity       float64\n",
       "ph             float64\n",
       "rainfall       float64\n",
       "label           object\n",
       "dtype: object"
      ]
     },
     "execution_count": 9,
     "metadata": {},
     "output_type": "execute_result"
    }
   ],
   "source": [
    "df.dtypes"
   ]
  },
  {
   "cell_type": "code",
   "execution_count": 10,
   "id": "purple-investment",
   "metadata": {},
   "outputs": [
    {
     "data": {
      "text/plain": [
       "Cauliflower          100\n",
       "grapes               100\n",
       "mango                100\n",
       "Turmeric             100\n",
       "coconut              100\n",
       "Soyabean             100\n",
       "Onion                100\n",
       "Beetroot             100\n",
       "Ragi( naachnnii)     100\n",
       "Chickpeas(Channa)    100\n",
       "Mustard seeds        100\n",
       "Chili                100\n",
       "Capsicum             100\n",
       "orange               100\n",
       "Olive                100\n",
       "jute                 100\n",
       "pigeonpeas           100\n",
       "coffee               100\n",
       "kidneybeans          100\n",
       "rice                 100\n",
       "pomegranate          100\n",
       "Drumstick            100\n",
       "Sweet Potato         100\n",
       "Ginger               100\n",
       "Radish               100\n",
       "chickpea             100\n",
       "mungbean             100\n",
       "Cucumber             100\n",
       "apple                100\n",
       "muskmelon            100\n",
       "Green Peas           100\n",
       "papaya               100\n",
       "Chickoo              100\n",
       "blackgram            100\n",
       "Pumpkin              100\n",
       "Barley(JAV)          100\n",
       "Cabbage              100\n",
       "watermelon           100\n",
       "cotton               100\n",
       "Carrot               100\n",
       "mothbeans            100\n",
       "Custard apple        100\n",
       "Spinach              100\n",
       "Sunflower            100\n",
       "maize                100\n",
       "Pineapple            100\n",
       "Coriander seeds      100\n",
       "Jowar(Sorghum)       100\n",
       "Gooseberry(Amla)     100\n",
       "Guava                100\n",
       "lentil               100\n",
       "tomato               100\n",
       "Potato               100\n",
       "banana               100\n",
       "Brinjal              100\n",
       "Name: label, dtype: int64"
      ]
     },
     "execution_count": 10,
     "metadata": {},
     "output_type": "execute_result"
    }
   ],
   "source": [
    "df['label'].value_counts()"
   ]
  },
  {
   "cell_type": "code",
   "execution_count": 11,
   "id": "historical-discovery",
   "metadata": {},
   "outputs": [
    {
     "data": {
      "text/plain": [
       "<AxesSubplot:>"
      ]
     },
     "execution_count": 11,
     "metadata": {},
     "output_type": "execute_result"
    },
    {
     "data": {
      "image/png": "[encoded data removed]",
      "text/plain": [
       "<Figure size 432x288 with 2 Axes>"
      ]
     },
     "metadata": {
      "needs_background": "light"
     },
     "output_type": "display_data"
    }
   ],
   "source": [
    "sns.heatmap(df.corr(),annot=True)"
   ]
  },
  {
   "cell_type": "markdown",
   "id": "polished-thomson",
   "metadata": {},
   "source": [
    "#### Seperating features and target label"
   ]
  },
  {
   "cell_type": "code",
   "execution_count": 12,
   "id": "timely-capability",
   "metadata": {},
   "outputs": [],
   "source": [
    "features = df[['N', 'P','K','temperature', 'humidity', 'ph', 'rainfall']]\n",
    "target = df['label']\n",
    "#features = df[['temperature', 'humidity', 'ph', 'rainfall']]\n",
    "labels = df['label']"
   ]
  },
  {
   "cell_type": "code",
   "execution_count": 13,
   "id": "actual-bookmark",
   "metadata": {},
   "outputs": [],
   "source": [
    "# Initialzing empty lists to append all model's name and corresponding name\n",
    "acc = []\n",
    "model = []"
   ]
  },
  {
   "cell_type": "code",
   "execution_count": 14,
   "id": "connected-azerbaijan",
   "metadata": {},
   "outputs": [],
   "source": [
    "# Splitting into train and test data\n",
    "\n",
    "from sklearn.model_selection import train_test_split\n",
    "Xtrain, Xtest, Ytrain, Ytest = train_test_split(features,target,test_size = 0.3,random_state =108)"
   ]
  },
  {
   "cell_type": "code",
   "execution_count": null,
   "id": "pressing-party",
   "metadata": {},
   "outputs": [],
   "source": []
  },
  {
   "cell_type": "markdown",
   "id": "exterior-healthcare",
   "metadata": {},
   "source": [
    "### Decision Tree"
   ]
  },
  {
   "cell_type": "code",
   "execution_count": 15,
   "id": "medium-humor",
   "metadata": {},
   "outputs": [
    {
     "name": "stdout",
     "output_type": "stream",
     "text": [
      "Decision Trees's Accuracy is:  98.42424242424242\n"
     ]
    }
   ],
   "source": [
    "from sklearn.tree import DecisionTreeClassifier\n",
    "\n",
    "DecisionTree = DecisionTreeClassifier(criterion=\"entropy\",random_state=42,max_depth=15)\n",
    "DecisionTree.fit(Xtrain,Ytrain)\n",
    "\n",
    "predicted_values = DecisionTree.predict(Xtest)\n",
    "x = metrics.accuracy_score(Ytest, predicted_values)\n",
    "acc.append(x)\n",
    "model.append('Decision Tree')\n",
    "print(\"Decision Trees's Accuracy is: \", x*100)"
   ]
  },
  {
   "cell_type": "code",
   "execution_count": 16,
   "id": "tracked-soviet",
   "metadata": {},
   "outputs": [
    {
     "name": "stdout",
     "output_type": "stream",
     "text": [
      "Confusion Matrix\n",
      "\n",
      "[[32  0  0 ...  0  0  0]\n",
      " [ 0 34  0 ...  0  0  0]\n",
      " [ 0  0 34 ...  0  0  0]\n",
      " ...\n",
      " [ 0  0  0 ... 30  0  0]\n",
      " [ 0  0  0 ...  0 32  0]\n",
      " [ 0  0  0 ...  0  0 25]]\n",
      "\n",
      "Accuracy: 0.9842\n",
      "\n",
      "Micro Precision: 0.9842\n",
      "Micro Recall: 0.9842\n",
      "Micro F1-score: 0.9842\n",
      "\n",
      "Macro Precision: 0.9844\n",
      "Macro Recall: 0.9847\n",
      "Macro F1-score: 0.9843\n",
      "\n",
      "Weighted Precision: 0.9846\n",
      "Weighted Recall: 0.9842\n",
      "Weighted F1-score: 0.9842\n",
      "\n",
      "Classification Report\n",
      "\n",
      "                   precision    recall  f1-score   support\n",
      "\n",
      "      Barley(JAV)       0.97      0.97      0.97        33\n",
      "         Beetroot       1.00      1.00      1.00        34\n",
      "          Brinjal       1.00      1.00      1.00        34\n",
      "          Cabbage       1.00      1.00      1.00        25\n",
      "         Capsicum       1.00      0.94      0.97        32\n",
      "           Carrot       1.00      1.00      1.00        30\n",
      "      Cauliflower       1.00      1.00      1.00        33\n",
      "          Chickoo       1.00      1.00      1.00        24\n",
      "Chickpeas(Channa)       1.00      0.97      0.98        32\n",
      "            Chili       1.00      1.00      1.00        27\n",
      "  Coriander seeds       1.00      0.96      0.98        26\n",
      "         Cucumber       1.00      1.00      1.00        27\n",
      "    Custard apple       1.00      1.00      1.00        28\n",
      "        Drumstick       0.97      1.00      0.99        33\n",
      "           Ginger       0.96      1.00      0.98        27\n",
      " Gooseberry(Amla)       1.00      1.00      1.00        31\n",
      "       Green Peas       1.00      1.00      1.00        31\n",
      "            Guava       1.00      1.00      1.00        27\n",
      "   Jowar(Sorghum)       0.97      0.97      0.97        38\n",
      "    Mustard seeds       1.00      1.00      1.00        29\n",
      "            Olive       0.94      0.97      0.95        30\n",
      "            Onion       1.00      1.00      1.00        30\n",
      "        Pineapple       1.00      1.00      1.00        30\n",
      "           Potato       1.00      1.00      1.00        26\n",
      "          Pumpkin       0.92      0.96      0.94        25\n",
      "           Radish       1.00      1.00      1.00        28\n",
      " Ragi( naachnnii)       0.89      1.00      0.94        24\n",
      "         Soyabean       1.00      1.00      1.00        23\n",
      "          Spinach       0.96      0.93      0.95        28\n",
      "        Sunflower       0.97      0.88      0.92        32\n",
      "     Sweet Potato       1.00      1.00      1.00        24\n",
      "         Turmeric       1.00      1.00      1.00        35\n",
      "            apple       1.00      1.00      1.00        30\n",
      "           banana       0.97      1.00      0.98        28\n",
      "        blackgram       0.96      0.93      0.95        28\n",
      "         chickpea       1.00      0.97      0.98        31\n",
      "          coconut       1.00      1.00      1.00        38\n",
      "           coffee       1.00      1.00      1.00        32\n",
      "           cotton       1.00      0.97      0.98        29\n",
      "           grapes       1.00      1.00      1.00        26\n",
      "             jute       0.91      0.91      0.91        34\n",
      "      kidneybeans       1.00      0.97      0.98        30\n",
      "           lentil       1.00      1.00      1.00        29\n",
      "            maize       0.93      1.00      0.97        28\n",
      "            mango       1.00      1.00      1.00        28\n",
      "        mothbeans       0.93      0.97      0.95        29\n",
      "         mungbean       1.00      1.00      1.00        32\n",
      "        muskmelon       1.00      1.00      1.00        43\n",
      "           orange       1.00      1.00      1.00        30\n",
      "           papaya       1.00      1.00      1.00        23\n",
      "       pigeonpeas       1.00      1.00      1.00        36\n",
      "      pomegranate       1.00      1.00      1.00        40\n",
      "             rice       0.91      0.91      0.91        33\n",
      "           tomato       0.97      1.00      0.98        32\n",
      "       watermelon       1.00      1.00      1.00        25\n",
      "\n",
      "         accuracy                           0.98      1650\n",
      "        macro avg       0.98      0.98      0.98      1650\n",
      "     weighted avg       0.98      0.98      0.98      1650\n",
      "\n"
     ]
    }
   ],
   "source": [
    "#importing confusion matrix\n",
    "from sklearn.metrics import confusion_matrix\n",
    "confusion = confusion_matrix(Ytest,predicted_values)\n",
    "print('Confusion Matrix\\n')\n",
    "print(confusion)\n",
    "\n",
    "#importing accuracy_score, precision_score, recall_score, f1_score\n",
    "from sklearn.metrics import accuracy_score, precision_score, recall_score, f1_score\n",
    "print('\\nAccuracy: {:.4f}\\n'.format(accuracy_score(Ytest,predicted_values)))\n",
    "\n",
    "print('Micro Precision: {:.4f}'.format(precision_score(Ytest,predicted_values, average='micro')))\n",
    "print('Micro Recall: {:.4f}'.format(recall_score(Ytest,predicted_values, average='micro')))\n",
    "print('Micro F1-score: {:.4f}\\n'.format(f1_score(Ytest,predicted_values, average='micro')))\n",
    "\n",
    "print('Macro Precision: {:.4f}'.format(precision_score(Ytest,predicted_values, average='macro')))\n",
    "print('Macro Recall: {:.4f}'.format(recall_score(Ytest,predicted_values, average='macro')))\n",
    "print('Macro F1-score: {:.4f}\\n'.format(f1_score(Ytest,predicted_values, average='macro')))\n",
    "\n",
    "print('Weighted Precision: {:.4f}'.format(precision_score(Ytest,predicted_values, average='weighted')))\n",
    "print('Weighted Recall: {:.4f}'.format(recall_score(Ytest,predicted_values, average='weighted')))\n",
    "print('Weighted F1-score: {:.4f}'.format(f1_score(Ytest,predicted_values, average='weighted')))\n",
    "\n",
    "from sklearn.metrics import classification_report\n",
    "print('\\nClassification Report\\n')\n",
    "print(classification_report(Ytest,predicted_values))"
   ]
  },
  {
   "cell_type": "code",
   "execution_count": 17,
   "id": "governing-attempt",
   "metadata": {},
   "outputs": [],
   "source": [
    "from sklearn.model_selection import cross_val_score"
   ]
  },
  {
   "cell_type": "code",
   "execution_count": 18,
   "id": "induced-protein",
   "metadata": {},
   "outputs": [
    {
     "data": {
      "text/plain": [
       "array([0.99454545, 0.98545455, 0.98545455, 0.98727273, 0.98454545])"
      ]
     },
     "execution_count": 18,
     "metadata": {},
     "output_type": "execute_result"
    }
   ],
   "source": [
    "# Cross validation score (Decision Tree)\n",
    "score = cross_val_score(DecisionTree, features, target,cv=5)\n",
    "score"
   ]
  },
  {
   "cell_type": "code",
   "execution_count": 19,
   "id": "infinite-amber",
   "metadata": {},
   "outputs": [
    {
     "name": "stdout",
     "output_type": "stream",
     "text": [
      "average :  0.9874545454545455\n"
     ]
    }
   ],
   "source": [
    "avg = 0\n",
    "for i in score:\n",
    "    avg +=i\n",
    "avg=avg/5\n",
    "print(\"average : \",avg)"
   ]
  },
  {
   "cell_type": "markdown",
   "id": "swedish-rachel",
   "metadata": {},
   "source": [
    "### Saving trained Decision Tree model"
   ]
  },
  {
   "cell_type": "code",
   "execution_count": 20,
   "id": "threatened-mailman",
   "metadata": {},
   "outputs": [],
   "source": [
    "import pickle\n",
    "# Dump the trained Naive Bayes classifier with Pickle\n",
    "DT_pkl_filename = 'C:/Users/User/Msc Codes/FINAL PROJECT/models/DecisionTree.pkl'\n",
    "# Open the file to save as pkl file\n",
    "DT_Model_pkl = open(DT_pkl_filename, 'wb')\n",
    "pickle.dump(DecisionTree, DT_Model_pkl)\n",
    "# Close the pickle instances\n",
    "DT_Model_pkl.close()"
   ]
  },
  {
   "cell_type": "code",
   "execution_count": null,
   "id": "retired-popularity",
   "metadata": {},
   "outputs": [],
   "source": []
  },
  {
   "cell_type": "markdown",
   "id": "rubber-glance",
   "metadata": {},
   "source": [
    "### Guassian Naive Bayes"
   ]
  },
  {
   "cell_type": "code",
   "execution_count": 21,
   "id": "automatic-cheat",
   "metadata": {},
   "outputs": [
    {
     "name": "stdout",
     "output_type": "stream",
     "text": [
      "Naive Bayes's Accuracy is:  0.9987878787878788\n"
     ]
    }
   ],
   "source": [
    "from sklearn.naive_bayes import GaussianNB\n",
    "\n",
    "NaiveBayes = GaussianNB()\n",
    "\n",
    "NaiveBayes.fit(Xtrain,Ytrain)\n",
    "\n",
    "predicted_values = NaiveBayes.predict(Xtest)\n",
    "x = metrics.accuracy_score(Ytest, predicted_values)\n",
    "acc.append(x)\n",
    "model.append('Naive Bayes')\n",
    "print(\"Naive Bayes's Accuracy is: \", x)"
   ]
  },
  {
   "cell_type": "code",
   "execution_count": 22,
   "id": "advised-fancy",
   "metadata": {},
   "outputs": [
    {
     "name": "stdout",
     "output_type": "stream",
     "text": [
      "Confusion Matrix\n",
      "\n",
      "[[33  0  0 ...  0  0  0]\n",
      " [ 0 34  0 ...  0  0  0]\n",
      " [ 0  0 34 ...  0  0  0]\n",
      " ...\n",
      " [ 0  0  0 ... 32  0  0]\n",
      " [ 0  0  0 ...  0 32  0]\n",
      " [ 0  0  0 ...  0  0 25]]\n",
      "\n",
      "Accuracy: 0.9988\n",
      "\n",
      "Micro Precision: 0.9988\n",
      "Micro Recall: 0.9988\n",
      "Micro F1-score: 0.9988\n",
      "\n",
      "Macro Precision: 0.9990\n",
      "Macro Recall: 0.9987\n",
      "Macro F1-score: 0.9988\n",
      "\n",
      "Weighted Precision: 0.9988\n",
      "Weighted Recall: 0.9988\n",
      "Weighted F1-score: 0.9988\n",
      "\n",
      "Classification Report\n",
      "\n",
      "                   precision    recall  f1-score   support\n",
      "\n",
      "      Barley(JAV)       1.00      1.00      1.00        33\n",
      "         Beetroot       1.00      1.00      1.00        34\n",
      "          Brinjal       1.00      1.00      1.00        34\n",
      "          Cabbage       1.00      1.00      1.00        25\n",
      "         Capsicum       1.00      1.00      1.00        32\n",
      "           Carrot       1.00      1.00      1.00        30\n",
      "      Cauliflower       1.00      1.00      1.00        33\n",
      "          Chickoo       1.00      1.00      1.00        24\n",
      "Chickpeas(Channa)       1.00      1.00      1.00        32\n",
      "            Chili       1.00      1.00      1.00        27\n",
      "  Coriander seeds       1.00      1.00      1.00        26\n",
      "         Cucumber       1.00      1.00      1.00        27\n",
      "    Custard apple       1.00      1.00      1.00        28\n",
      "        Drumstick       1.00      1.00      1.00        33\n",
      "           Ginger       1.00      1.00      1.00        27\n",
      " Gooseberry(Amla)       1.00      1.00      1.00        31\n",
      "       Green Peas       1.00      1.00      1.00        31\n",
      "            Guava       1.00      1.00      1.00        27\n",
      "   Jowar(Sorghum)       0.97      1.00      0.99        38\n",
      "    Mustard seeds       1.00      1.00      1.00        29\n",
      "            Olive       1.00      1.00      1.00        30\n",
      "            Onion       1.00      1.00      1.00        30\n",
      "        Pineapple       1.00      1.00      1.00        30\n",
      "           Potato       1.00      1.00      1.00        26\n",
      "          Pumpkin       1.00      0.96      0.98        25\n",
      "           Radish       1.00      1.00      1.00        28\n",
      " Ragi( naachnnii)       1.00      1.00      1.00        24\n",
      "         Soyabean       1.00      1.00      1.00        23\n",
      "          Spinach       1.00      1.00      1.00        28\n",
      "        Sunflower       1.00      1.00      1.00        32\n",
      "     Sweet Potato       1.00      1.00      1.00        24\n",
      "         Turmeric       1.00      1.00      1.00        35\n",
      "            apple       1.00      1.00      1.00        30\n",
      "           banana       1.00      1.00      1.00        28\n",
      "        blackgram       1.00      1.00      1.00        28\n",
      "         chickpea       1.00      1.00      1.00        31\n",
      "          coconut       1.00      1.00      1.00        38\n",
      "           coffee       1.00      1.00      1.00        32\n",
      "           cotton       1.00      1.00      1.00        29\n",
      "           grapes       1.00      1.00      1.00        26\n",
      "             jute       0.97      1.00      0.99        34\n",
      "      kidneybeans       1.00      1.00      1.00        30\n",
      "           lentil       1.00      1.00      1.00        29\n",
      "            maize       1.00      1.00      1.00        28\n",
      "            mango       1.00      1.00      1.00        28\n",
      "        mothbeans       1.00      1.00      1.00        29\n",
      "         mungbean       1.00      1.00      1.00        32\n",
      "        muskmelon       1.00      1.00      1.00        43\n",
      "           orange       1.00      1.00      1.00        30\n",
      "           papaya       1.00      1.00      1.00        23\n",
      "       pigeonpeas       1.00      1.00      1.00        36\n",
      "      pomegranate       1.00      1.00      1.00        40\n",
      "             rice       1.00      0.97      0.98        33\n",
      "           tomato       1.00      1.00      1.00        32\n",
      "       watermelon       1.00      1.00      1.00        25\n",
      "\n",
      "         accuracy                           1.00      1650\n",
      "        macro avg       1.00      1.00      1.00      1650\n",
      "     weighted avg       1.00      1.00      1.00      1650\n",
      "\n"
     ]
    }
   ],
   "source": [
    "#importing confusion matrix\n",
    "from sklearn.metrics import confusion_matrix\n",
    "confusion = confusion_matrix(Ytest,predicted_values)\n",
    "print('Confusion Matrix\\n')\n",
    "print(confusion)\n",
    "\n",
    "#importing accuracy_score, precision_score, recall_score, f1_score\n",
    "from sklearn.metrics import accuracy_score, precision_score, recall_score, f1_score\n",
    "print('\\nAccuracy: {:.4f}\\n'.format(accuracy_score(Ytest,predicted_values)))\n",
    "\n",
    "print('Micro Precision: {:.4f}'.format(precision_score(Ytest,predicted_values, average='micro')))\n",
    "print('Micro Recall: {:.4f}'.format(recall_score(Ytest,predicted_values, average='micro')))\n",
    "print('Micro F1-score: {:.4f}\\n'.format(f1_score(Ytest,predicted_values, average='micro')))\n",
    "\n",
    "print('Macro Precision: {:.4f}'.format(precision_score(Ytest,predicted_values, average='macro')))\n",
    "print('Macro Recall: {:.4f}'.format(recall_score(Ytest,predicted_values, average='macro')))\n",
    "print('Macro F1-score: {:.4f}\\n'.format(f1_score(Ytest,predicted_values, average='macro')))\n",
    "\n",
    "print('Weighted Precision: {:.4f}'.format(precision_score(Ytest,predicted_values, average='weighted')))\n",
    "print('Weighted Recall: {:.4f}'.format(recall_score(Ytest,predicted_values, average='weighted')))\n",
    "print('Weighted F1-score: {:.4f}'.format(f1_score(Ytest,predicted_values, average='weighted')))\n",
    "\n",
    "from sklearn.metrics import classification_report\n",
    "print('\\nClassification Report\\n')\n",
    "print(classification_report(Ytest,predicted_values))"
   ]
  },
  {
   "cell_type": "code",
   "execution_count": 23,
   "id": "diagnostic-medium",
   "metadata": {},
   "outputs": [
    {
     "data": {
      "text/plain": [
       "array([0.99818182, 0.99818182, 0.99636364, 0.99727273, 0.99454545])"
      ]
     },
     "execution_count": 23,
     "metadata": {},
     "output_type": "execute_result"
    }
   ],
   "source": [
    "# Cross validation score (NaiveBayes)\n",
    "score = cross_val_score(NaiveBayes,features,target,cv=5)\n",
    "score"
   ]
  },
  {
   "cell_type": "code",
   "execution_count": 24,
   "id": "insured-platinum",
   "metadata": {},
   "outputs": [
    {
     "name": "stdout",
     "output_type": "stream",
     "text": [
      "average :  0.9969090909090909\n"
     ]
    }
   ],
   "source": [
    "avg = 0\n",
    "for i in score:\n",
    "    avg +=i\n",
    "avg=avg/5\n",
    "print(\"average : \",avg)"
   ]
  },
  {
   "cell_type": "markdown",
   "id": "recognized-click",
   "metadata": {},
   "source": [
    "### Saving trained Guassian Naive Bayes model"
   ]
  },
  {
   "cell_type": "code",
   "execution_count": 25,
   "id": "lesser-adapter",
   "metadata": {},
   "outputs": [],
   "source": [
    "import pickle\n",
    "# Dump the trained Naive Bayes classifier with Pickle\n",
    "NB_pkl_filename = 'C:/Users/User/Msc Codes/FINAL PROJECT/models/NBClassifier.pkl'\n",
    "# Open the file to save as pkl file\n",
    "NB_Model_pkl = open(NB_pkl_filename, 'wb')\n",
    "pickle.dump(NaiveBayes, NB_Model_pkl)\n",
    "# Close the pickle instances\n",
    "NB_Model_pkl.close()"
   ]
  },
  {
   "cell_type": "markdown",
   "id": "collaborative-cleaner",
   "metadata": {},
   "source": [
    "### Support Vector Machine (SVM)"
   ]
  },
  {
   "cell_type": "code",
   "execution_count": 26,
   "id": "sufficient-report",
   "metadata": {},
   "outputs": [
    {
     "name": "stdout",
     "output_type": "stream",
     "text": [
      "SVM's Accuracy is:  0.8812121212121212\n"
     ]
    }
   ],
   "source": [
    "from sklearn.svm import SVC\n",
    "\n",
    "SVM = SVC(gamma='scale',max_iter=10)\n",
    "\n",
    "SVM.fit(Xtrain,Ytrain)\n",
    "\n",
    "predicted_values = SVM.predict(Xtest)\n",
    "\n",
    "x = metrics.accuracy_score(Ytest, predicted_values)\n",
    "acc.append(x)\n",
    "model.append('SVM')\n",
    "print(\"SVM's Accuracy is: \", x)"
   ]
  },
  {
   "cell_type": "code",
   "execution_count": 27,
   "id": "advanced-modeling",
   "metadata": {},
   "outputs": [
    {
     "name": "stdout",
     "output_type": "stream",
     "text": [
      "Confusion Matrix\n",
      "\n",
      "[[31  0  0 ...  0  0  0]\n",
      " [ 0 34  0 ...  0  0  0]\n",
      " [ 0  0 29 ...  0  0  0]\n",
      " ...\n",
      " [ 0  0  0 ... 29  0  0]\n",
      " [ 0  0  0 ...  0 32  0]\n",
      " [ 0  0  0 ...  0  0 25]]\n",
      "\n",
      "Accuracy: 0.8812\n",
      "\n",
      "Micro Precision: 0.8812\n",
      "Micro Recall: 0.8812\n",
      "Micro F1-score: 0.8812\n",
      "\n",
      "Macro Precision: 0.8825\n",
      "Macro Recall: 0.8832\n",
      "Macro F1-score: 0.8737\n",
      "\n",
      "Weighted Precision: 0.8854\n",
      "Weighted Recall: 0.8812\n",
      "Weighted F1-score: 0.8736\n",
      "\n",
      "Classification Report\n",
      "\n",
      "                   precision    recall  f1-score   support\n",
      "\n",
      "      Barley(JAV)       0.84      0.94      0.89        33\n",
      "         Beetroot       1.00      1.00      1.00        34\n",
      "          Brinjal       0.88      0.85      0.87        34\n",
      "          Cabbage       1.00      1.00      1.00        25\n",
      "         Capsicum       0.42      0.25      0.31        32\n",
      "           Carrot       0.67      0.97      0.79        30\n",
      "      Cauliflower       1.00      0.97      0.98        33\n",
      "          Chickoo       0.37      0.42      0.39        24\n",
      "Chickpeas(Channa)       1.00      1.00      1.00        32\n",
      "            Chili       0.79      1.00      0.89        27\n",
      "  Coriander seeds       0.84      0.81      0.82        26\n",
      "         Cucumber       0.96      0.93      0.94        27\n",
      "    Custard apple       0.96      0.96      0.96        28\n",
      "        Drumstick       1.00      0.15      0.26        33\n",
      "           Ginger       0.66      1.00      0.79        27\n",
      " Gooseberry(Amla)       1.00      1.00      1.00        31\n",
      "       Green Peas       1.00      0.97      0.98        31\n",
      "            Guava       0.84      0.78      0.81        27\n",
      "   Jowar(Sorghum)       0.46      0.47      0.47        38\n",
      "    Mustard seeds       1.00      1.00      1.00        29\n",
      "            Olive       0.77      0.90      0.83        30\n",
      "            Onion       0.97      1.00      0.98        30\n",
      "        Pineapple       1.00      1.00      1.00        30\n",
      "           Potato       1.00      1.00      1.00        26\n",
      "          Pumpkin       0.47      0.56      0.51        25\n",
      "           Radish       0.68      0.82      0.74        28\n",
      " Ragi( naachnnii)       0.86      1.00      0.92        24\n",
      "         Soyabean       0.68      0.83      0.75        23\n",
      "          Spinach       0.62      0.46      0.53        28\n",
      "        Sunflower       0.76      0.78      0.77        32\n",
      "     Sweet Potato       1.00      1.00      1.00        24\n",
      "         Turmeric       0.70      0.40      0.51        35\n",
      "            apple       1.00      1.00      1.00        30\n",
      "           banana       1.00      1.00      1.00        28\n",
      "        blackgram       0.93      0.96      0.95        28\n",
      "         chickpea       1.00      1.00      1.00        31\n",
      "          coconut       1.00      1.00      1.00        38\n",
      "           coffee       1.00      1.00      1.00        32\n",
      "           cotton       1.00      0.97      0.98        29\n",
      "           grapes       1.00      1.00      1.00        26\n",
      "             jute       0.88      0.88      0.88        34\n",
      "      kidneybeans       0.96      0.83      0.89        30\n",
      "           lentil       1.00      0.93      0.96        29\n",
      "            maize       0.93      1.00      0.97        28\n",
      "            mango       1.00      1.00      1.00        28\n",
      "        mothbeans       0.97      1.00      0.98        29\n",
      "         mungbean       1.00      1.00      1.00        32\n",
      "        muskmelon       1.00      1.00      1.00        43\n",
      "           orange       1.00      1.00      1.00        30\n",
      "           papaya       0.92      0.96      0.94        23\n",
      "       pigeonpeas       0.87      0.94      0.91        36\n",
      "      pomegranate       1.00      1.00      1.00        40\n",
      "             rice       0.88      0.88      0.88        33\n",
      "           tomato       1.00      1.00      1.00        32\n",
      "       watermelon       1.00      1.00      1.00        25\n",
      "\n",
      "         accuracy                           0.88      1650\n",
      "        macro avg       0.88      0.88      0.87      1650\n",
      "     weighted avg       0.89      0.88      0.87      1650\n",
      "\n"
     ]
    }
   ],
   "source": [
    "#importing confusion matrix\n",
    "from sklearn.metrics import confusion_matrix\n",
    "confusion = confusion_matrix(Ytest,predicted_values)\n",
    "print('Confusion Matrix\\n')\n",
    "print(confusion)\n",
    "\n",
    "#importing accuracy_score, precision_score, recall_score, f1_score\n",
    "from sklearn.metrics import accuracy_score, precision_score, recall_score, f1_score\n",
    "print('\\nAccuracy: {:.4f}\\n'.format(accuracy_score(Ytest,predicted_values)))\n",
    "\n",
    "print('Micro Precision: {:.4f}'.format(precision_score(Ytest,predicted_values, average='micro')))\n",
    "print('Micro Recall: {:.4f}'.format(recall_score(Ytest,predicted_values, average='micro')))\n",
    "print('Micro F1-score: {:.4f}\\n'.format(f1_score(Ytest,predicted_values, average='micro')))\n",
    "\n",
    "print('Macro Precision: {:.4f}'.format(precision_score(Ytest,predicted_values, average='macro')))\n",
    "print('Macro Recall: {:.4f}'.format(recall_score(Ytest,predicted_values, average='macro')))\n",
    "print('Macro F1-score: {:.4f}\\n'.format(f1_score(Ytest,predicted_values, average='macro')))\n",
    "\n",
    "print('Weighted Precision: {:.4f}'.format(precision_score(Ytest,predicted_values, average='weighted')))\n",
    "print('Weighted Recall: {:.4f}'.format(recall_score(Ytest,predicted_values, average='weighted')))\n",
    "print('Weighted F1-score: {:.4f}'.format(f1_score(Ytest,predicted_values, average='weighted')))\n",
    "\n",
    "from sklearn.metrics import classification_report\n",
    "print('\\nClassification Report\\n')\n",
    "print(classification_report(Ytest,predicted_values))"
   ]
  },
  {
   "cell_type": "code",
   "execution_count": 28,
   "id": "russian-commodity",
   "metadata": {},
   "outputs": [
    {
     "data": {
      "text/plain": [
       "array([0.87909091, 0.89363636, 0.88818182, 0.9       , 0.84272727])"
      ]
     },
     "execution_count": 28,
     "metadata": {},
     "output_type": "execute_result"
    }
   ],
   "source": [
    "# Cross validation score (SVM)\n",
    "score = cross_val_score(SVM,features,target,cv=5)\n",
    "score"
   ]
  },
  {
   "cell_type": "code",
   "execution_count": 29,
   "id": "brilliant-vulnerability",
   "metadata": {},
   "outputs": [
    {
     "name": "stdout",
     "output_type": "stream",
     "text": [
      "average :  0.8807272727272728\n"
     ]
    }
   ],
   "source": [
    "avg = 0\n",
    "for i in score:\n",
    "    avg +=i\n",
    "avg=avg/5\n",
    "print(\"average : \",avg)"
   ]
  },
  {
   "cell_type": "markdown",
   "id": "visible-provision",
   "metadata": {},
   "source": [
    "### Logistic Regression"
   ]
  },
  {
   "cell_type": "code",
   "execution_count": 30,
   "id": "successful-marathon",
   "metadata": {},
   "outputs": [
    {
     "name": "stdout",
     "output_type": "stream",
     "text": [
      "Logistic Regression's Accuracy is:  0.906060606060606\n"
     ]
    }
   ],
   "source": [
    "from sklearn.linear_model import LogisticRegression\n",
    "\n",
    "LogReg = LogisticRegression(random_state=42)\n",
    "\n",
    "LogReg.fit(Xtrain,Ytrain)\n",
    "\n",
    "predicted_values = LogReg.predict(Xtest)\n",
    "\n",
    "x = metrics.accuracy_score(Ytest, predicted_values)\n",
    "acc.append(x)\n",
    "model.append('Logistic Regression')\n",
    "print(\"Logistic Regression's Accuracy is: \", x)\n"
   ]
  },
  {
   "cell_type": "code",
   "execution_count": 31,
   "id": "latest-throat",
   "metadata": {},
   "outputs": [
    {
     "name": "stdout",
     "output_type": "stream",
     "text": [
      "Confusion Matrix\n",
      "\n",
      "[[30  0  0 ...  0  0  0]\n",
      " [ 0 33  0 ...  0  1  0]\n",
      " [ 0  0 33 ...  0  0  0]\n",
      " ...\n",
      " [ 0  0  0 ... 28  0  0]\n",
      " [ 0  5  0 ...  0 26  0]\n",
      " [ 0  0  0 ...  0  0 25]]\n",
      "\n",
      "Accuracy: 0.9061\n",
      "\n",
      "Micro Precision: 0.9061\n",
      "Micro Recall: 0.9061\n",
      "Micro F1-score: 0.9061\n",
      "\n",
      "Macro Precision: 0.9052\n",
      "Macro Recall: 0.9045\n",
      "Macro F1-score: 0.9023\n",
      "\n",
      "Weighted Precision: 0.9069\n",
      "Weighted Recall: 0.9061\n",
      "Weighted F1-score: 0.9040\n",
      "\n",
      "Classification Report\n",
      "\n",
      "                   precision    recall  f1-score   support\n",
      "\n",
      "      Barley(JAV)       0.91      0.91      0.91        33\n",
      "         Beetroot       0.87      0.97      0.92        34\n",
      "          Brinjal       0.92      0.97      0.94        34\n",
      "          Cabbage       1.00      1.00      1.00        25\n",
      "         Capsicum       0.75      0.56      0.64        32\n",
      "           Carrot       0.79      0.87      0.83        30\n",
      "      Cauliflower       1.00      1.00      1.00        33\n",
      "          Chickoo       1.00      1.00      1.00        24\n",
      "Chickpeas(Channa)       1.00      1.00      1.00        32\n",
      "            Chili       0.79      0.96      0.87        27\n",
      "  Coriander seeds       1.00      1.00      1.00        26\n",
      "         Cucumber       0.96      0.96      0.96        27\n",
      "    Custard apple       0.76      0.68      0.72        28\n",
      "        Drumstick       0.94      0.97      0.96        33\n",
      "           Ginger       1.00      0.93      0.96        27\n",
      " Gooseberry(Amla)       0.81      0.97      0.88        31\n",
      "       Green Peas       1.00      1.00      1.00        31\n",
      "            Guava       1.00      0.93      0.96        27\n",
      "   Jowar(Sorghum)       0.72      0.68      0.70        38\n",
      "    Mustard seeds       1.00      1.00      1.00        29\n",
      "            Olive       1.00      1.00      1.00        30\n",
      "            Onion       0.94      1.00      0.97        30\n",
      "        Pineapple       1.00      1.00      1.00        30\n",
      "           Potato       1.00      1.00      1.00        26\n",
      "          Pumpkin       0.72      0.72      0.72        25\n",
      "           Radish       0.96      0.86      0.91        28\n",
      " Ragi( naachnnii)       1.00      1.00      1.00        24\n",
      "         Soyabean       0.83      0.87      0.85        23\n",
      "          Spinach       0.85      0.82      0.84        28\n",
      "        Sunflower       0.80      0.88      0.84        32\n",
      "     Sweet Potato       0.96      1.00      0.98        24\n",
      "         Turmeric       1.00      0.97      0.99        35\n",
      "            apple       0.86      1.00      0.92        30\n",
      "           banana       0.87      0.96      0.92        28\n",
      "        blackgram       0.58      0.75      0.66        28\n",
      "         chickpea       1.00      0.84      0.91        31\n",
      "          coconut       1.00      0.92      0.96        38\n",
      "           coffee       1.00      1.00      1.00        32\n",
      "           cotton       0.96      0.90      0.93        29\n",
      "           grapes       1.00      1.00      1.00        26\n",
      "             jute       0.86      0.94      0.90        34\n",
      "      kidneybeans       0.94      1.00      0.97        30\n",
      "           lentil       0.92      0.76      0.83        29\n",
      "            maize       0.81      0.93      0.87        28\n",
      "            mango       0.84      0.93      0.88        28\n",
      "        mothbeans       0.64      0.48      0.55        29\n",
      "         mungbean       0.86      1.00      0.93        32\n",
      "        muskmelon       1.00      1.00      1.00        43\n",
      "           orange       1.00      1.00      1.00        30\n",
      "           papaya       0.60      0.39      0.47        23\n",
      "       pigeonpeas       0.94      0.86      0.90        36\n",
      "      pomegranate       0.93      0.95      0.94        40\n",
      "             rice       0.93      0.85      0.89        33\n",
      "           tomato       0.96      0.81      0.88        32\n",
      "       watermelon       1.00      1.00      1.00        25\n",
      "\n",
      "         accuracy                           0.91      1650\n",
      "        macro avg       0.91      0.90      0.90      1650\n",
      "     weighted avg       0.91      0.91      0.90      1650\n",
      "\n"
     ]
    }
   ],
   "source": [
    "#importing confusion matrix\n",
    "from sklearn.metrics import confusion_matrix\n",
    "confusion = confusion_matrix(Ytest,predicted_values)\n",
    "print('Confusion Matrix\\n')\n",
    "print(confusion)\n",
    "\n",
    "#importing accuracy_score, precision_score, recall_score, f1_score\n",
    "from sklearn.metrics import accuracy_score, precision_score, recall_score, f1_score\n",
    "print('\\nAccuracy: {:.4f}\\n'.format(accuracy_score(Ytest,predicted_values)))\n",
    "\n",
    "print('Micro Precision: {:.4f}'.format(precision_score(Ytest,predicted_values, average='micro')))\n",
    "print('Micro Recall: {:.4f}'.format(recall_score(Ytest,predicted_values, average='micro')))\n",
    "print('Micro F1-score: {:.4f}\\n'.format(f1_score(Ytest,predicted_values, average='micro')))\n",
    "\n",
    "print('Macro Precision: {:.4f}'.format(precision_score(Ytest,predicted_values, average='macro')))\n",
    "print('Macro Recall: {:.4f}'.format(recall_score(Ytest,predicted_values, average='macro')))\n",
    "print('Macro F1-score: {:.4f}\\n'.format(f1_score(Ytest,predicted_values, average='macro')))\n",
    "\n",
    "print('Weighted Precision: {:.4f}'.format(precision_score(Ytest,predicted_values, average='weighted')))\n",
    "print('Weighted Recall: {:.4f}'.format(recall_score(Ytest,predicted_values, average='weighted')))\n",
    "print('Weighted F1-score: {:.4f}'.format(f1_score(Ytest,predicted_values, average='weighted')))\n",
    "\n",
    "from sklearn.metrics import classification_report\n",
    "print('\\nClassification Report\\n')\n",
    "print(classification_report(Ytest,predicted_values))"
   ]
  },
  {
   "cell_type": "code",
   "execution_count": 32,
   "id": "phantom-bridge",
   "metadata": {},
   "outputs": [
    {
     "data": {
      "text/plain": [
       "array([0.90272727, 0.91181818, 0.88909091, 0.92818182, 0.91      ])"
      ]
     },
     "execution_count": 32,
     "metadata": {},
     "output_type": "execute_result"
    }
   ],
   "source": [
    "# Cross validation score (Logistic Regression)\n",
    "score = cross_val_score(LogReg,features,target,cv=5)\n",
    "score"
   ]
  },
  {
   "cell_type": "code",
   "execution_count": 33,
   "id": "vertical-samuel",
   "metadata": {},
   "outputs": [
    {
     "name": "stdout",
     "output_type": "stream",
     "text": [
      "average :  0.9083636363636364\n"
     ]
    }
   ],
   "source": [
    "avg = 0\n",
    "for i in score:\n",
    "    avg +=i\n",
    "avg=avg/5\n",
    "print(\"average : \",avg)"
   ]
  },
  {
   "cell_type": "markdown",
   "id": "homeless-start",
   "metadata": {},
   "source": [
    "### Saving trained Logistic Regression model"
   ]
  },
  {
   "cell_type": "code",
   "execution_count": 34,
   "id": "guilty-program",
   "metadata": {},
   "outputs": [],
   "source": [
    "import pickle\n",
    "# Dump the trained Naive Bayes classifier with Pickle\n",
    "LR_pkl_filename = 'C:/Users/User/Msc Codes/FINAL PROJECT/models/LogisticRegression.pkl'\n",
    "# Open the file to save as pkl file\n",
    "LR_Model_pkl = open(DT_pkl_filename, 'wb')\n",
    "pickle.dump(LogReg, LR_Model_pkl)\n",
    "# Close the pickle instances\n",
    "LR_Model_pkl.close()"
   ]
  },
  {
   "cell_type": "markdown",
   "id": "bottom-complaint",
   "metadata": {},
   "source": [
    "### Random Forest"
   ]
  },
  {
   "cell_type": "code",
   "execution_count": 35,
   "id": "satisfactory-vertex",
   "metadata": {},
   "outputs": [
    {
     "name": "stdout",
     "output_type": "stream",
     "text": [
      "RF's Accuracy is:  0.9933333333333333\n"
     ]
    }
   ],
   "source": [
    "from sklearn.ensemble import RandomForestClassifier\n",
    "\n",
    "RF = RandomForestClassifier(n_estimators=10, random_state=42)\n",
    "RF.fit(Xtrain,Ytrain)\n",
    "\n",
    "predicted_values = RF.predict(Xtest)\n",
    "\n",
    "x = metrics.accuracy_score(Ytest, predicted_values)\n",
    "acc.append(x)\n",
    "model.append('RF')\n",
    "print(\"RF's Accuracy is: \", x)\n"
   ]
  },
  {
   "cell_type": "code",
   "execution_count": 36,
   "id": "brutal-wages",
   "metadata": {},
   "outputs": [
    {
     "name": "stdout",
     "output_type": "stream",
     "text": [
      "Confusion Matrix\n",
      "\n",
      "[[33  0  0 ...  0  0  0]\n",
      " [ 0 34  0 ...  0  0  0]\n",
      " [ 0  0 34 ...  0  0  0]\n",
      " ...\n",
      " [ 0  0  0 ... 32  0  0]\n",
      " [ 0  0  0 ...  0 32  0]\n",
      " [ 0  0  0 ...  0  0 25]]\n",
      "\n",
      "Accuracy: 0.9933\n",
      "\n",
      "Micro Precision: 0.9933\n",
      "Micro Recall: 0.9933\n",
      "Micro F1-score: 0.9933\n",
      "\n",
      "Macro Precision: 0.9929\n",
      "Macro Recall: 0.9939\n",
      "Macro F1-score: 0.9932\n",
      "\n",
      "Weighted Precision: 0.9938\n",
      "Weighted Recall: 0.9933\n",
      "Weighted F1-score: 0.9933\n",
      "\n",
      "Classification Report\n",
      "\n",
      "                   precision    recall  f1-score   support\n",
      "\n",
      "      Barley(JAV)       1.00      1.00      1.00        33\n",
      "         Beetroot       1.00      1.00      1.00        34\n",
      "          Brinjal       1.00      1.00      1.00        34\n",
      "          Cabbage       1.00      1.00      1.00        25\n",
      "         Capsicum       1.00      1.00      1.00        32\n",
      "           Carrot       0.97      1.00      0.98        30\n",
      "      Cauliflower       1.00      1.00      1.00        33\n",
      "          Chickoo       1.00      1.00      1.00        24\n",
      "Chickpeas(Channa)       1.00      1.00      1.00        32\n",
      "            Chili       1.00      1.00      1.00        27\n",
      "  Coriander seeds       1.00      1.00      1.00        26\n",
      "         Cucumber       1.00      1.00      1.00        27\n",
      "    Custard apple       1.00      1.00      1.00        28\n",
      "        Drumstick       1.00      1.00      1.00        33\n",
      "           Ginger       1.00      1.00      1.00        27\n",
      " Gooseberry(Amla)       1.00      1.00      1.00        31\n",
      "       Green Peas       1.00      1.00      1.00        31\n",
      "            Guava       1.00      0.96      0.98        27\n",
      "   Jowar(Sorghum)       1.00      0.95      0.97        38\n",
      "    Mustard seeds       1.00      1.00      1.00        29\n",
      "            Olive       1.00      1.00      1.00        30\n",
      "            Onion       1.00      1.00      1.00        30\n",
      "        Pineapple       1.00      1.00      1.00        30\n",
      "           Potato       1.00      1.00      1.00        26\n",
      "          Pumpkin       0.93      1.00      0.96        25\n",
      "           Radish       1.00      1.00      1.00        28\n",
      " Ragi( naachnnii)       0.89      1.00      0.94        24\n",
      "         Soyabean       0.92      1.00      0.96        23\n",
      "          Spinach       1.00      1.00      1.00        28\n",
      "        Sunflower       1.00      0.84      0.92        32\n",
      "     Sweet Potato       1.00      1.00      1.00        24\n",
      "         Turmeric       1.00      1.00      1.00        35\n",
      "            apple       1.00      1.00      1.00        30\n",
      "           banana       1.00      1.00      1.00        28\n",
      "        blackgram       1.00      1.00      1.00        28\n",
      "         chickpea       1.00      1.00      1.00        31\n",
      "          coconut       1.00      1.00      1.00        38\n",
      "           coffee       1.00      1.00      1.00        32\n",
      "           cotton       1.00      1.00      1.00        29\n",
      "           grapes       1.00      1.00      1.00        26\n",
      "             jute       0.97      0.97      0.97        34\n",
      "      kidneybeans       1.00      1.00      1.00        30\n",
      "           lentil       1.00      1.00      1.00        29\n",
      "            maize       1.00      1.00      1.00        28\n",
      "            mango       1.00      1.00      1.00        28\n",
      "        mothbeans       0.97      1.00      0.98        29\n",
      "         mungbean       1.00      1.00      1.00        32\n",
      "        muskmelon       1.00      1.00      1.00        43\n",
      "           orange       1.00      1.00      1.00        30\n",
      "           papaya       1.00      1.00      1.00        23\n",
      "       pigeonpeas       1.00      0.97      0.99        36\n",
      "      pomegranate       1.00      1.00      1.00        40\n",
      "             rice       0.97      0.97      0.97        33\n",
      "           tomato       1.00      1.00      1.00        32\n",
      "       watermelon       1.00      1.00      1.00        25\n",
      "\n",
      "         accuracy                           0.99      1650\n",
      "        macro avg       0.99      0.99      0.99      1650\n",
      "     weighted avg       0.99      0.99      0.99      1650\n",
      "\n"
     ]
    }
   ],
   "source": [
    "#importing confusion matrix\n",
    "from sklearn.metrics import confusion_matrix\n",
    "confusion = confusion_matrix(Ytest,predicted_values)\n",
    "print('Confusion Matrix\\n')\n",
    "print(confusion)\n",
    "\n",
    "#importing accuracy_score, precision_score, recall_score, f1_score\n",
    "from sklearn.metrics import accuracy_score, precision_score, recall_score, f1_score\n",
    "print('\\nAccuracy: {:.4f}\\n'.format(accuracy_score(Ytest,predicted_values)))\n",
    "\n",
    "print('Micro Precision: {:.4f}'.format(precision_score(Ytest,predicted_values, average='micro')))\n",
    "print('Micro Recall: {:.4f}'.format(recall_score(Ytest,predicted_values, average='micro')))\n",
    "print('Micro F1-score: {:.4f}\\n'.format(f1_score(Ytest,predicted_values, average='micro')))\n",
    "\n",
    "print('Macro Precision: {:.4f}'.format(precision_score(Ytest,predicted_values, average='macro')))\n",
    "print('Macro Recall: {:.4f}'.format(recall_score(Ytest,predicted_values, average='macro')))\n",
    "print('Macro F1-score: {:.4f}\\n'.format(f1_score(Ytest,predicted_values, average='macro')))\n",
    "\n",
    "print('Weighted Precision: {:.4f}'.format(precision_score(Ytest,predicted_values, average='weighted')))\n",
    "print('Weighted Recall: {:.4f}'.format(recall_score(Ytest,predicted_values, average='weighted')))\n",
    "print('Weighted F1-score: {:.4f}'.format(f1_score(Ytest,predicted_values, average='weighted')))\n",
    "\n",
    "from sklearn.metrics import classification_report\n",
    "print('\\nClassification Report\\n')\n",
    "print(classification_report(Ytest,predicted_values))"
   ]
  },
  {
   "cell_type": "code",
   "execution_count": 37,
   "id": "loose-pointer",
   "metadata": {},
   "outputs": [
    {
     "data": {
      "text/plain": [
       "array([0.99545455, 0.99454545, 0.99636364, 0.99818182, 0.99727273])"
      ]
     },
     "execution_count": 37,
     "metadata": {},
     "output_type": "execute_result"
    }
   ],
   "source": [
    "# Cross validation score (Random Forest)\n",
    "score = cross_val_score(RF,features,target,cv=5)\n",
    "score"
   ]
  },
  {
   "cell_type": "code",
   "execution_count": 38,
   "id": "dirty-forty",
   "metadata": {},
   "outputs": [
    {
     "name": "stdout",
     "output_type": "stream",
     "text": [
      "average :  0.9963636363636363\n"
     ]
    }
   ],
   "source": [
    "avg = 0\n",
    "for i in score:\n",
    "    avg +=i\n",
    "avg=avg/5\n",
    "print(\"average : \",avg)"
   ]
  },
  {
   "cell_type": "markdown",
   "id": "temporal-communications",
   "metadata": {},
   "source": [
    "### Saving trained Random Forest model"
   ]
  },
  {
   "cell_type": "code",
   "execution_count": 39,
   "id": "basic-genre",
   "metadata": {},
   "outputs": [],
   "source": [
    "import pickle\n",
    "# Dump the trained Naive Bayes classifier with Pickle\n",
    "RF_pkl_filename = 'C:/Users/User/Msc Codes/FINAL PROJECT/models/RandomForest.pkl'\n",
    "# Open the file to save as pkl file\n",
    "RF_Model_pkl = open(RF_pkl_filename, 'wb')\n",
    "pickle.dump(RF, RF_Model_pkl)\n",
    "# Close the pickle instances\n",
    "RF_Model_pkl.close()"
   ]
  },
  {
   "cell_type": "markdown",
   "id": "after-shadow",
   "metadata": {},
   "source": [
    "### XGBoost"
   ]
  },
  {
   "cell_type": "code",
   "execution_count": 40,
   "id": "worse-coalition",
   "metadata": {},
   "outputs": [
    {
     "name": "stdout",
     "output_type": "stream",
     "text": [
      "[17:05:22] WARNING: C:/Users/Administrator/workspace/xgboost-win64_release_1.4.0/src/learner.cc:1095: Starting in XGBoost 1.3.0, the default evaluation metric used with the objective 'multi:softprob' was changed from 'merror' to 'mlogloss'. Explicitly set eval_metric if you'd like to restore the old behavior.\n",
      "XGBoost's Accuracy is:  0.9866666666666667\n"
     ]
    }
   ],
   "source": [
    "import xgboost as xgb\n",
    "XB = xgb.XGBClassifier()\n",
    "XB.fit(Xtrain,Ytrain)\n",
    "\n",
    "predicted_values = XB.predict(Xtest)\n",
    "\n",
    "x = metrics.accuracy_score(Ytest, predicted_values)\n",
    "acc.append(x)\n",
    "model.append('XGBoost')\n",
    "print(\"XGBoost's Accuracy is: \", x)\n",
    "\n"
   ]
  },
  {
   "cell_type": "code",
   "execution_count": 41,
   "id": "varying-gothic",
   "metadata": {},
   "outputs": [
    {
     "name": "stdout",
     "output_type": "stream",
     "text": [
      "Confusion Matrix\n",
      "\n",
      "[[31  0  0 ...  0  0  0]\n",
      " [ 0 34  0 ...  0  0  0]\n",
      " [ 0  0 33 ...  0  0  0]\n",
      " ...\n",
      " [ 0  0  0 ... 31  0  0]\n",
      " [ 0  0  0 ...  0 32  0]\n",
      " [ 0  0  0 ...  0  0 25]]\n",
      "\n",
      "Accuracy: 0.9867\n",
      "\n",
      "Micro Precision: 0.9867\n",
      "Micro Recall: 0.9867\n",
      "Micro F1-score: 0.9867\n",
      "\n",
      "Macro Precision: 0.9874\n",
      "Macro Recall: 0.9862\n",
      "Macro F1-score: 0.9865\n",
      "\n",
      "Weighted Precision: 0.9872\n",
      "Weighted Recall: 0.9867\n",
      "Weighted F1-score: 0.9867\n",
      "\n",
      "Classification Report\n",
      "\n",
      "                   precision    recall  f1-score   support\n",
      "\n",
      "      Barley(JAV)       1.00      0.94      0.97        33\n",
      "         Beetroot       1.00      1.00      1.00        34\n",
      "          Brinjal       1.00      0.97      0.99        34\n",
      "          Cabbage       1.00      1.00      1.00        25\n",
      "         Capsicum       0.97      0.97      0.97        32\n",
      "           Carrot       0.97      1.00      0.98        30\n",
      "      Cauliflower       1.00      1.00      1.00        33\n",
      "          Chickoo       1.00      0.96      0.98        24\n",
      "Chickpeas(Channa)       1.00      1.00      1.00        32\n",
      "            Chili       1.00      0.96      0.98        27\n",
      "  Coriander seeds       1.00      1.00      1.00        26\n",
      "         Cucumber       1.00      1.00      1.00        27\n",
      "    Custard apple       0.97      1.00      0.98        28\n",
      "        Drumstick       1.00      1.00      1.00        33\n",
      "           Ginger       0.96      1.00      0.98        27\n",
      " Gooseberry(Amla)       1.00      1.00      1.00        31\n",
      "       Green Peas       1.00      1.00      1.00        31\n",
      "            Guava       1.00      0.96      0.98        27\n",
      "   Jowar(Sorghum)       0.93      1.00      0.96        38\n",
      "    Mustard seeds       0.97      1.00      0.98        29\n",
      "            Olive       1.00      1.00      1.00        30\n",
      "            Onion       0.97      1.00      0.98        30\n",
      "        Pineapple       1.00      1.00      1.00        30\n",
      "           Potato       1.00      1.00      1.00        26\n",
      "          Pumpkin       0.92      0.92      0.92        25\n",
      "           Radish       1.00      1.00      1.00        28\n",
      " Ragi( naachnnii)       0.88      0.96      0.92        24\n",
      "         Soyabean       1.00      1.00      1.00        23\n",
      "          Spinach       1.00      1.00      1.00        28\n",
      "        Sunflower       1.00      0.91      0.95        32\n",
      "     Sweet Potato       1.00      1.00      1.00        24\n",
      "         Turmeric       1.00      1.00      1.00        35\n",
      "            apple       1.00      1.00      1.00        30\n",
      "           banana       1.00      1.00      1.00        28\n",
      "        blackgram       1.00      1.00      1.00        28\n",
      "         chickpea       1.00      1.00      1.00        31\n",
      "          coconut       1.00      0.95      0.97        38\n",
      "           coffee       1.00      1.00      1.00        32\n",
      "           cotton       1.00      1.00      1.00        29\n",
      "           grapes       1.00      1.00      1.00        26\n",
      "             jute       0.92      0.97      0.94        34\n",
      "      kidneybeans       1.00      1.00      1.00        30\n",
      "           lentil       1.00      1.00      1.00        29\n",
      "            maize       1.00      0.96      0.98        28\n",
      "            mango       1.00      1.00      1.00        28\n",
      "        mothbeans       1.00      1.00      1.00        29\n",
      "         mungbean       1.00      1.00      1.00        32\n",
      "        muskmelon       1.00      1.00      1.00        43\n",
      "           orange       1.00      1.00      1.00        30\n",
      "           papaya       1.00      0.87      0.93        23\n",
      "       pigeonpeas       0.97      1.00      0.99        36\n",
      "      pomegranate       0.98      1.00      0.99        40\n",
      "             rice       0.91      0.94      0.93        33\n",
      "           tomato       1.00      1.00      1.00        32\n",
      "       watermelon       1.00      1.00      1.00        25\n",
      "\n",
      "         accuracy                           0.99      1650\n",
      "        macro avg       0.99      0.99      0.99      1650\n",
      "     weighted avg       0.99      0.99      0.99      1650\n",
      "\n"
     ]
    }
   ],
   "source": [
    "#importing confusion matrix\n",
    "from sklearn.metrics import confusion_matrix\n",
    "confusion = confusion_matrix(Ytest,predicted_values)\n",
    "print('Confusion Matrix\\n')\n",
    "print(confusion)\n",
    "\n",
    "#importing accuracy_score, precision_score, recall_score, f1_score\n",
    "from sklearn.metrics import accuracy_score, precision_score, recall_score, f1_score\n",
    "print('\\nAccuracy: {:.4f}\\n'.format(accuracy_score(Ytest,predicted_values)))\n",
    "\n",
    "print('Micro Precision: {:.4f}'.format(precision_score(Ytest,predicted_values, average='micro')))\n",
    "print('Micro Recall: {:.4f}'.format(recall_score(Ytest,predicted_values, average='micro')))\n",
    "print('Micro F1-score: {:.4f}\\n'.format(f1_score(Ytest,predicted_values, average='micro')))\n",
    "\n",
    "print('Macro Precision: {:.4f}'.format(precision_score(Ytest,predicted_values, average='macro')))\n",
    "print('Macro Recall: {:.4f}'.format(recall_score(Ytest,predicted_values, average='macro')))\n",
    "print('Macro F1-score: {:.4f}\\n'.format(f1_score(Ytest,predicted_values, average='macro')))\n",
    "\n",
    "print('Weighted Precision: {:.4f}'.format(precision_score(Ytest,predicted_values, average='weighted')))\n",
    "print('Weighted Recall: {:.4f}'.format(recall_score(Ytest,predicted_values, average='weighted')))\n",
    "print('Weighted F1-score: {:.4f}'.format(f1_score(Ytest,predicted_values, average='weighted')))\n",
    "\n",
    "from sklearn.metrics import classification_report\n",
    "print('\\nClassification Report\\n')\n",
    "print(classification_report(Ytest,predicted_values))"
   ]
  },
  {
   "cell_type": "code",
   "execution_count": 42,
   "id": "confidential-tract",
   "metadata": {},
   "outputs": [
    {
     "name": "stdout",
     "output_type": "stream",
     "text": [
      "[17:05:30] WARNING: C:/Users/Administrator/workspace/xgboost-win64_release_1.4.0/src/learner.cc:1095: Starting in XGBoost 1.3.0, the default evaluation metric used with the objective 'multi:softprob' was changed from 'merror' to 'mlogloss'. Explicitly set eval_metric if you'd like to restore the old behavior.\n",
      "[17:05:35] WARNING: C:/Users/Administrator/workspace/xgboost-win64_release_1.4.0/src/learner.cc:1095: Starting in XGBoost 1.3.0, the default evaluation metric used with the objective 'multi:softprob' was changed from 'merror' to 'mlogloss'. Explicitly set eval_metric if you'd like to restore the old behavior.\n",
      "[17:05:40] WARNING: C:/Users/Administrator/workspace/xgboost-win64_release_1.4.0/src/learner.cc:1095: Starting in XGBoost 1.3.0, the default evaluation metric used with the objective 'multi:softprob' was changed from 'merror' to 'mlogloss'. Explicitly set eval_metric if you'd like to restore the old behavior.\n",
      "[17:05:45] WARNING: C:/Users/Administrator/workspace/xgboost-win64_release_1.4.0/src/learner.cc:1095: Starting in XGBoost 1.3.0, the default evaluation metric used with the objective 'multi:softprob' was changed from 'merror' to 'mlogloss'. Explicitly set eval_metric if you'd like to restore the old behavior.\n",
      "[17:05:49] WARNING: C:/Users/Administrator/workspace/xgboost-win64_release_1.4.0/src/learner.cc:1095: Starting in XGBoost 1.3.0, the default evaluation metric used with the objective 'multi:softprob' was changed from 'merror' to 'mlogloss'. Explicitly set eval_metric if you'd like to restore the old behavior.\n"
     ]
    },
    {
     "data": {
      "text/plain": [
       "array([0.99545455, 0.99      , 0.98727273, 0.99272727, 0.99      ])"
      ]
     },
     "execution_count": 42,
     "metadata": {},
     "output_type": "execute_result"
    }
   ],
   "source": [
    "# Cross validation score (XGBoost)\n",
    "score = cross_val_score(XB,features,target,cv=5)\n",
    "score"
   ]
  },
  {
   "cell_type": "code",
   "execution_count": 43,
   "id": "comprehensive-circumstances",
   "metadata": {},
   "outputs": [
    {
     "name": "stdout",
     "output_type": "stream",
     "text": [
      "average :  0.991090909090909\n"
     ]
    }
   ],
   "source": [
    "avg = 0\n",
    "for i in score:\n",
    "    avg +=i\n",
    "avg=avg/5\n",
    "print(\"average : \",avg)"
   ]
  },
  {
   "cell_type": "code",
   "execution_count": null,
   "id": "curious-animation",
   "metadata": {},
   "outputs": [],
   "source": []
  },
  {
   "cell_type": "markdown",
   "id": "destroyed-franchise",
   "metadata": {},
   "source": [
    "### Saving trained XGBoost model"
   ]
  },
  {
   "cell_type": "code",
   "execution_count": 44,
   "id": "accompanied-living",
   "metadata": {},
   "outputs": [],
   "source": [
    "import pickle\n",
    "# Dump the trained Naive Bayes classifier with Pickle\n",
    "XB_pkl_filename = 'C:/Users/User/Msc Codes/FINAL PROJECT/models/XGBoost.pkl'\n",
    "# Open the file to save as pkl file\n",
    "XB_Model_pkl = open(XB_pkl_filename, 'wb')\n",
    "pickle.dump(XB, XB_Model_pkl)\n",
    "# Close the pickle instances\n",
    "XB_Model_pkl.close()"
   ]
  },
  {
   "cell_type": "code",
   "execution_count": null,
   "id": "provincial-destination",
   "metadata": {},
   "outputs": [],
   "source": []
  },
  {
   "cell_type": "markdown",
   "id": "dramatic-inflation",
   "metadata": {},
   "source": [
    "### Accuracy Comparison"
   ]
  },
  {
   "cell_type": "code",
   "execution_count": 53,
   "id": "boolean-detector",
   "metadata": {},
   "outputs": [
    {
     "data": {
      "text/plain": [
       "<AxesSubplot:title={'center':'Accuracy Comparison'}, xlabel='Accuracy', ylabel='Algorithm'>"
      ]
     },
     "execution_count": 53,
     "metadata": {},
     "output_type": "execute_result"
    },
    {
     "data": {
      "image/png": "[encoded data removed]",
      "text/plain": [
       "<Figure size 1000x500 with 1 Axes>"
      ]
     },
     "metadata": {
      "needs_background": "light"
     },
     "output_type": "display_data"
    }
   ],
   "source": [
    "plt.figure(figsize=[10,5],dpi = 100)\n",
    "plt.title('Accuracy Comparison')\n",
    "plt.xlabel('Accuracy')\n",
    "plt.ylabel('Algorithm')\n",
    "sns.barplot(x = acc,y = model,palette='dark')"
   ]
  },
  {
   "cell_type": "code",
   "execution_count": 46,
   "id": "funny-shift",
   "metadata": {},
   "outputs": [
    {
     "name": "stdout",
     "output_type": "stream",
     "text": [
      "Decision Tree --> 0.9842424242424243\n",
      "Naive Bayes --> 0.9987878787878788\n",
      "SVM --> 0.8812121212121212\n",
      "Logistic Regression --> 0.906060606060606\n",
      "RF --> 0.9933333333333333\n",
      "XGBoost --> 0.9866666666666667\n"
     ]
    }
   ],
   "source": [
    "accuracy_models = dict(zip(model, acc))\n",
    "for k, v in accuracy_models.items():\n",
    "    print (k, '-->', v)"
   ]
  },
  {
   "cell_type": "code",
   "execution_count": null,
   "id": "auburn-missile",
   "metadata": {},
   "outputs": [],
   "source": []
  },
  {
   "cell_type": "markdown",
   "id": "sharp-pastor",
   "metadata": {},
   "source": [
    "### Making a prediction"
   ]
  },
  {
   "cell_type": "code",
   "execution_count": 47,
   "id": "coordinate-lunch",
   "metadata": {},
   "outputs": [
    {
     "name": "stdout",
     "output_type": "stream",
     "text": [
      "['coffee']\n"
     ]
    }
   ],
   "source": [
    "data = np.array([[104,18, 30, 23.603016, 60.3, 6.7, 140.91]])\n",
    "prediction = RF.predict(data)\n",
    "print(prediction)"
   ]
  },
  {
   "cell_type": "code",
   "execution_count": 48,
   "id": "sufficient-unknown",
   "metadata": {},
   "outputs": [
    {
     "name": "stdout",
     "output_type": "stream",
     "text": [
      "['jute']\n"
     ]
    }
   ],
   "source": [
    "data = np.array([[83, 45, 60, 28, 70.3, 7.0, 150.9]])\n",
    "prediction = RF.predict(data)\n",
    "print(prediction)"
   ]
  },
  {
   "cell_type": "code",
   "execution_count": 49,
   "id": "continuous-atlanta",
   "metadata": {},
   "outputs": [
    {
     "ename": "SyntaxError",
     "evalue": "invalid syntax (<ipython-input-49-9aba245791d2>, line 1)",
     "output_type": "error",
     "traceback": [
      "\u001b[1;36m  File \u001b[1;32m\"<ipython-input-49-9aba245791d2>\"\u001b[1;36m, line \u001b[1;32m1\u001b[0m\n\u001b[1;33m    >virtualenv crop_predict\u001b[0m\n\u001b[1;37m    ^\u001b[0m\n\u001b[1;31mSyntaxError\u001b[0m\u001b[1;31m:\u001b[0m invalid syntax\n"
     ]
    }
   ],
   "source": [
    "\n",
    ">virtualenv crop_predict"
   ]
  },
  {
   "cell_type": "code",
   "execution_count": null,
   "id": "chinese-october",
   "metadata": {},
   "outputs": [],
   "source": []
  }
 ],
 "metadata": {
  "kernelspec": {
   "display_name": "Python 3",
   "language": "python",
   "name": "python3"
  },
  "language_info": {
   "codemirror_mode": {
    "name": "ipython",
    "version": 3
   },
   "file_extension": ".py",
   "mimetype": "text/x-python",
   "name": "python",
   "nbconvert_exporter": "python",
   "pygments_lexer": "ipython3",
   "version": "3.8.7"
  }
 },
 "nbformat": 4,
 "nbformat_minor": 5
}
